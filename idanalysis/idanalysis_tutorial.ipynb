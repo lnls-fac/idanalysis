{
 "cells": [
  {
   "cell_type": "code",
   "execution_count": 1,
   "metadata": {},
   "outputs": [],
   "source": [
    "import numpy as np\n",
    "import matplotlib.pyplot as plt"
   ]
  },
  {
   "cell_type": "markdown",
   "metadata": {},
   "source": [
    "\n",
    "### Using DELTA52 data"
   ]
  },
  {
   "cell_type": "code",
   "execution_count": null,
   "metadata": {},
   "outputs": [],
   "source": [
    "from idanalysis.idsdata import DELTA52Data\n",
    "\n",
    "# create deltadata object\n",
    "deltadata = DELTA52Data()\n",
    "\n",
    "print(deltadata.subsecs)\n",
    "print(deltadata.id_famname)\n",
    "print(deltadata.period_length)\n",
    "print(deltadata.nr_periods)\n",
    "\n",
    "print(deltadata.folder_base_output)\n",
    "print(deltadata.folder_base_kickmaps)\n",
    "print(deltadata.folder_base_fieldmaps)\n"
   ]
  },
  {
   "cell_type": "code",
   "execution_count": null,
   "metadata": {},
   "outputs": [],
   "source": [
    "# get kickmap file name for some configuration\n",
    "kmap_fname = deltadata.get_kickmap_filename(meas_flag=True, dp=0, dgv=26.25)\n",
    "print(kmap_fname)\n",
    "\n",
    "# get fieldmap file name for some configuration\n",
    "fmap_fname = deltadata.get_fmap_fname(dp=0, dgv=26.25)\n",
    "print(fmap_fname)"
   ]
  },
  {
   "cell_type": "markdown",
   "metadata": {},
   "source": [
    "### Usefull tools for fieldmap analysis"
   ]
  },
  {
   "cell_type": "code",
   "execution_count": null,
   "metadata": {},
   "outputs": [],
   "source": [
    "# Once you chose the desired configuration it is possible to load the fieldmap, to do so you can use the function get_fmap.  # noqa: E501\n",
    "fmap = deltadata.get_fmap(dp=0, dgv=26.25)"
   ]
  },
  {
   "cell_type": "code",
   "execution_count": null,
   "metadata": {},
   "outputs": [],
   "source": [
    "from idanalysis.analysis import FieldMapAnalysis\n",
    "\n",
    "# Now, we can create a FieldMapAnalysis object\n",
    "fmap_anl = FieldMapAnalysis(fmap)\n",
    "\n",
    "\n",
    "# It is possible to get a specific field component along the undulator central axis.  # noqa: E501\n",
    "b = fmap_anl.get_field_component_on_axis(field_component='by')\n",
    "rz = fmap.rz\n",
    "plt.plot(rz, b)\n",
    "plt.xlabel('rz [mm]')\n",
    "plt.ylabel('B [T]')\n"
   ]
  },
  {
   "cell_type": "code",
   "execution_count": null,
   "metadata": {},
   "outputs": [],
   "source": [
    "# It is also possible to verify the transverse behavior of the field.\n",
    "r_transverse, b_transverse = fmap_anl.get_fmap_transverse_dependence(\n",
    "    field_component='by', plane=\"x\")\n",
    "\n",
    "plt.figure()\n",
    "plt.plot(r_transverse, b_transverse)\n",
    "plt.xlabel('rx [mm]')\n",
    "plt.ylabel('B [T]')\n",
    "\n",
    "\n",
    "# Or check the field roll-off\n",
    "rt_interp, bt_interp, roff = fmap_anl.get_fmap_roll_off(\n",
    "    field_component='by', plane=\"x\")\n",
    "plt.figure()\n",
    "plt.plot(rt_interp, roff)\n",
    "plt.xlabel('rx [mm]')\n",
    "plt.ylabel('Roll-off [%]')"
   ]
  },
  {
   "cell_type": "markdown",
   "metadata": {},
   "source": [
    "### Usefull tools for RADIA model analysis"
   ]
  },
  {
   "cell_type": "code",
   "execution_count": null,
   "metadata": {},
   "outputs": [],
   "source": [
    "from idanalysis.idsmodels import DELTA52\n",
    "\n",
    "# The user can also do analysis using the ID RADIA model\n",
    "delta = DELTA52()\n",
    "delta.generate_radia_model(dp=-10, dgv=12)\n",
    "r_transverse, b_transverse, roff = delta.calc_radia_roll_off(\n",
    "    field_component='by', r_transverse=np.linspace(-5, 5, 11), plane=\"y\"\n",
    ")\n",
    "\n",
    "\n",
    "\n",
    "plt.figure()\n",
    "plt.plot(r_transverse, b_transverse)\n",
    "plt.xlabel('ry [mm]')\n",
    "plt.ylabel('B [T]')\n",
    "\n",
    "plt.figure()\n",
    "plt.plot(r_transverse, roff)\n",
    "plt.xlabel('ry [mm]')\n",
    "plt.ylabel('Roll-off [%]')"
   ]
  },
  {
   "cell_type": "markdown",
   "metadata": {},
   "source": [
    "### Trajectory analysis"
   ]
  },
  {
   "cell_type": "code",
   "execution_count": null,
   "metadata": {},
   "outputs": [],
   "source": [
    "# Besides the field analysis the user can calculate the electron trajectory in a field given by a RADIA model or a fieldmap.  # noqa: E501\n",
    "\n",
    "from idanalysis.analysis import TrajectoryAnalysis\n",
    "\n",
    "# Let's first do some analysis on a fieldmap\n",
    "traj_anl = TrajectoryAnalysis(fieldsource=fmap)\n",
    "traj_anl.rk_s_step = 1\n",
    "\n",
    "traj_anl.traj_init_rz = -900\n",
    "traj_anl.traj_max_rz = 900\n",
    "traj_anl.traj_init_rx = 1e-3\n",
    "traj_anl.traj_init_ry = 0\n",
    "traj_anl.traj_init_px = 0\n",
    "traj_anl.traj_init_py = 0\n",
    "traj_anl.set_traj_configs()\n",
    "\n",
    "traj_anl.calculate_traj()\n",
    "plt.plot(traj_anl.traj.s, traj_anl.traj.rx)\n",
    "plt.xlabel('rz [mm]')\n",
    "plt.ylabel('rx [mm]')\n"
   ]
  },
  {
   "cell_type": "code",
   "execution_count": null,
   "metadata": {},
   "outputs": [],
   "source": [
    "# Now, let's do the same calculation using a RADIA model\n",
    "traj_anl = TrajectoryAnalysis(fieldsource=delta.model)\n",
    "traj_anl.rk_s_step = 1\n",
    "\n",
    "traj_anl.traj_init_rz = -900\n",
    "traj_anl.traj_max_rz = 900\n",
    "traj_anl.traj_init_rx = 1e-3\n",
    "traj_anl.traj_init_ry = 0\n",
    "traj_anl.traj_init_px = 0\n",
    "traj_anl.traj_init_py = 0\n",
    "traj_anl.set_traj_configs()\n",
    "\n",
    "traj_anl.calculate_traj()\n",
    "plt.plot(traj_anl.traj.s, traj_anl.traj.rx)\n",
    "plt.xlabel('rz [mm]')\n",
    "plt.ylabel('rx [mm]')"
   ]
  },
  {
   "cell_type": "code",
   "execution_count": null,
   "metadata": {},
   "outputs": [],
   "source": [
    "# The user can calculate the kickmap using the generate_kickmap function of this class.  # noqa: E501"
   ]
  },
  {
   "cell_type": "markdown",
   "metadata": {},
   "source": [
    "### Kickmap analysis"
   ]
  },
  {
   "cell_type": "code",
   "execution_count": 21,
   "metadata": {},
   "outputs": [],
   "source": [
    "from idanalysis.analysis import KickmapAnalysis\n",
    "\n",
    "# Once the user has a kickmap some analysis can be done using KickmapAnalysis\n",
    "kick_anl = KickmapAnalysis(kmap_fname)"
   ]
  },
  {
   "cell_type": "code",
   "execution_count": null,
   "metadata": {},
   "outputs": [],
   "source": [
    "# It's possible to check the kickmap at a chosen plane\n",
    "rx0, ry0, pxf, pyf, rxf, ryf = kick_anl.get_kicks_at_plane(\n",
    "    indep_var=\"x\", plane=0)\n",
    "\n",
    "plt.figure()\n",
    "plt.plot(1e3*rx0, 1e6*pxf, label='kick x')\n",
    "plt.plot(1e3*rx0, 1e6*pyf, label='kick y')\n",
    "plt.xlabel('rx [mm]')\n",
    "plt.ylabel('kick [urad]')\n",
    "plt.legend()"
   ]
  },
  {
   "cell_type": "code",
   "execution_count": null,
   "metadata": {},
   "outputs": [],
   "source": [
    "# Or even check the kickmap at all planes\n",
    "rx0, ry0, pxf, pyf, rxf, ryf = kick_anl.get_kicks_all_planes(indep_var=\"x\")\n",
    "plt.plot(1e3*rx0, 1e6*pxf.T)\n",
    "plt.xlabel('rx [mm]')\n",
    "plt.ylabel('kick x [urad]')"
   ]
  },
  {
   "cell_type": "code",
   "execution_count": null,
   "metadata": {},
   "outputs": [],
   "source": [
    "# This class also allow the user to check the tracking in the SI model using the chosen kickmap.  # noqa: E501\n",
    "\n",
    "pxf_trk, pyf_trk, rxf_trk, ryf_trk = kick_anl.check_tracking_at_plane(\n",
    "    kmap_fname=kmap_fname, subsec=deltadata.subsecs[0],\n",
    "    fam_name=deltadata.id_famname)\n",
    "\n",
    "plt.plot(1e3*rx0, 1e6*pxf_trk, label='kick x')\n",
    "plt.plot(1e3*rx0, 1e6*pyf_trk, label='kick y')\n",
    "plt.xlabel('rx [mm]')\n",
    "plt.ylabel('kick x [urad]')"
   ]
  },
  {
   "cell_type": "markdown",
   "metadata": {},
   "source": [
    "### Storage ring analysis"
   ]
  },
  {
   "cell_type": "code",
   "execution_count": 4,
   "metadata": {},
   "outputs": [],
   "source": [
    "# If everything is OK with the tracking through the kickmap it is possible to verify the effects on the undulator in the beam dynamics  # noqa: E501\n",
    "from idanalysis.analysis import StorageRingAnalysis\n",
    "ring_anl = StorageRingAnalysis()"
   ]
  },
  {
   "cell_type": "code",
   "execution_count": null,
   "metadata": {},
   "outputs": [],
   "source": [
    "# Symmetrize the lattice during analysis\n",
    "ring_anl.calc_type = ring_anl.CalcTypes.symmetrized\n",
    "\n",
    "# Add delta52 id on ss 10\n",
    "ring_anl.add_id_to_model(\n",
    "    kmap_fname=kmap_fname, subsec=deltadata.subsecs[0],\n",
    "    fam_name=deltadata.id_famname)\n",
    "ring_anl.set_model_ids()\n",
    "\n",
    "ring_anl.plot_orbcorr = True\n",
    "ring_anl.run_correction_algorithms()\n"
   ]
  },
  {
   "cell_type": "code",
   "execution_count": null,
   "metadata": {},
   "outputs": [],
   "source": [
    "din = ring_anl.analysis_dynapt(x_nrpts=20, y_nrpts=20, nr_turns=512)"
   ]
  },
  {
   "cell_type": "markdown",
   "metadata": {},
   "source": [
    "### Equilibrium parameters analysis"
   ]
  },
  {
   "cell_type": "code",
   "execution_count": 1,
   "metadata": {},
   "outputs": [],
   "source": [
    "from idanalysis.eqparams import InsertionParams, EqParamAnalysis, SiriusIDS\n",
    "import matplotlib.pyplot as plt\n",
    "import pymodels\n",
    "from scipy.integrate import cumtrapz"
   ]
  },
  {
   "cell_type": "code",
   "execution_count": null,
   "metadata": {},
   "outputs": [],
   "source": [
    "id1 = InsertionParams()\n",
    "id1.fam_name = 'APU22'\n",
    "id1.period = 22\n",
    "id1.by_peak = 0.68\n",
    "id1.bx_peak = 0.68\n",
    "id1.nr_periods = 50\n",
    "id1.straight_section = \"ID06SB\"\n",
    "\n",
    "id2 = InsertionParams()\n",
    "id2.fam_name = 'APU22'\n",
    "id2.period = 22\n",
    "id2.by_peak = 0.68\n",
    "id2.nr_periods = 50\n",
    "id2.straight_section = \"ID08SB\"\n",
    "\n",
    "id3 = InsertionParams()\n",
    "id3.fam_name = 'APU22'\n",
    "id3.period = 22\n",
    "id3.by_peak = 0.68\n",
    "id3.nr_periods = 50\n",
    "id3.straight_section = \"ID07SB\"\n",
    "\n",
    "id4 = InsertionParams()\n",
    "id4.fam_name = 'APU58'\n",
    "id4.period = 58\n",
    "id4.ky = 5.2\n",
    "id4.length = 1\n",
    "id4.straight_section = \"ID11SB\"\n",
    "\n",
    "id5 = InsertionParams()\n",
    "id5.fam_name = 'WIG180'\n",
    "id5.period = 180\n",
    "id5.by_peak = 1\n",
    "id5.nr_periods = 13\n",
    "id5.straight_section = \"ID14SB\"\n",
    "\n",
    "\n",
    "eqparam = EqParamAnalysis()\n",
    "si = pymodels.si.create_accelerator()\n",
    "si = pymodels.si.fitted_models.vertical_dispersion_and_coupling(si)\n",
    "eqparam.set_model(si)\n",
    "\n",
    "eqparam.add_id_to_lattice(id1)\n",
    "eqparam.add_id_to_lattice(id2)\n",
    "eqparam.add_id_to_lattice(id3)\n",
    "eqparam.add_id_to_lattice(id4)\n",
    "eqparam.add_id_to_lattice(id5)\n",
    "\n",
    "\n",
    "eqparam.plot_ids_effects_emit_espread()"
   ]
  },
  {
   "cell_type": "code",
   "execution_count": null,
   "metadata": {},
   "outputs": [],
   "source": [
    "si_ids = SiriusIDS()\n",
    "ids = si_ids.set_current_ids()\n",
    "eqparam.ids = ids\n",
    "eqparam.plot_ids_effects_emit_espread()"
   ]
  },
  {
   "cell_type": "code",
   "execution_count": null,
   "metadata": {},
   "outputs": [],
   "source": [
    "si_ids = SiriusIDS()\n",
    "ids = si_ids.set_phase1_ids()\n",
    "eqparam.ids = ids\n",
    "\n",
    "eqparam.plot_ids_effects_emit_espread()"
   ]
  }
 ],
 "metadata": {
  "kernelspec": {
   "display_name": "sirius",
   "language": "python",
   "name": "python3"
  },
  "language_info": {
   "codemirror_mode": {
    "name": "ipython",
    "version": 3
   },
   "file_extension": ".py",
   "mimetype": "text/x-python",
   "name": "python",
   "nbconvert_exporter": "python",
   "pygments_lexer": "ipython3",
   "version": "3.9.2"
  }
 },
 "nbformat": 4,
 "nbformat_minor": 2
}
