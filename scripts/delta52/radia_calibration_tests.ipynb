{
 "cells": [
  {
   "cell_type": "code",
   "execution_count": 3,
   "metadata": {},
   "outputs": [],
   "source": [
    "import numpy as np\n",
    "import matplotlib.pyplot as plt\n",
    "from imaids.models import DeltaSabia\n",
    "from idanalysis.analysis import Tools\n",
    "import utils\n",
    "import imaids\n",
    "from mathphys.functions import save_pickle, load_pickle\n",
    "from scipy.integrate import cumtrapz\n"
   ]
  },
  {
   "cell_type": "code",
   "execution_count": 4,
   "metadata": {},
   "outputs": [],
   "source": [
    "def generate_radia_model(phase=0, dgv=0, trf_on_blocks=False):\n",
    "    \"\"\".\"\"\"\n",
    "\n",
    "    delta = DeltaSabia(trf_on_blocks=trf_on_blocks)\n",
    "    delta.set_cassete_positions(dp=phase, dgv=dgv)\n",
    "\n",
    "    return delta\n"
   ]
  },
  {
   "cell_type": "code",
   "execution_count": 5,
   "metadata": {},
   "outputs": [],
   "source": [
    "def get_cassettes_names(model):\n",
    "    return list(model.cassettes_ref.keys())\n"
   ]
  },
  {
   "cell_type": "code",
   "execution_count": 6,
   "metadata": {},
   "outputs": [],
   "source": [
    "def get_fieldmap(phase, dgv):\n",
    "    fmap_fname = Tools.get_fmap_fname(utils.ID_CONFIGS, utils.MEAS_DATA_PATH,\n",
    "                                      config_keys=(phase, dgv),\n",
    "                                      config_dict=utils.CONFIG_DICT)\n",
    "    return Tools.get_fmap(fmap_fname)\n"
   ]
  },
  {
   "cell_type": "code",
   "execution_count": 7,
   "metadata": {},
   "outputs": [],
   "source": [
    "def get_full_field(fmap):\n",
    "    full_field = np.zeros((len(fmap.rx), len(fmap.rz), 3))\n",
    "    full_field[:, :, 0]  = fmap.bx[0]\n",
    "    full_field[:, :, 1]  = fmap.by[0]\n",
    "    full_field[:, :, 2]  = fmap.bz[0]\n",
    "    return full_field\n"
   ]
  },
  {
   "cell_type": "code",
   "execution_count": 8,
   "metadata": {},
   "outputs": [],
   "source": [
    "def get_onaxis_field(rx, rz, fmap):\n",
    "    full_field = get_full_field(rx, rz, fmap)\n",
    "    field_onaxis = full_field[fmap.rx_zero,:, :]\n",
    "    return field_onaxis\n"
   ]
  },
  {
   "cell_type": "code",
   "execution_count": 9,
   "metadata": {},
   "outputs": [],
   "source": [
    "def get_onaxis_field_model(rz, model):\n",
    "    field_onaxis = np.zeros((len(rz), 3))\n",
    "    field_onaxis[:, :] = model.get_field(x=0, y=0, z=rz, nproc=24)\n",
    "    return field_onaxis\n"
   ]
  },
  {
   "cell_type": "code",
   "execution_count": 10,
   "metadata": {},
   "outputs": [],
   "source": [
    "def get_full_field_model(rx, rz, model):\n",
    "    field_model = np.zeros((len(rx), len(rz), 3))\n",
    "    for i, x in enumerate(rx):\n",
    "        field_model[i, :, :] = model.get_field(x=x, y=0, z=rz, nproc=24)\n",
    "    return field_model\n"
   ]
  },
  {
   "cell_type": "code",
   "execution_count": 11,
   "metadata": {},
   "outputs": [
    {
     "name": "stdout",
     "output_type": "stream",
     "text": [
      "ID4818\n"
     ]
    }
   ],
   "source": [
    "imaids.utils.set_len_tol(5e-10, 5e-10)\n",
    "delta = generate_radia_model(phase=0, dgv=0)\n",
    "cas_names = get_cassettes_names(delta)\n",
    "\n",
    "fmap = get_fieldmap(phase=0, dgv=0)\n",
    "rx = fmap.rx\n",
    "ry = fmap.ry\n",
    "rz = fmap.rz\n"
   ]
  },
  {
   "cell_type": "code",
   "execution_count": 11,
   "metadata": {},
   "outputs": [],
   "source": [
    "# field_onaxis_model = get_onaxis_field_model(rz, delta)\n",
    "# field_onaxis_meas = get_onaxis_field(rx, rz, fmap)\n",
    "# plt.plot(field_onaxis_meas[:, 2] - field_onaxis_model[:, 2])\n",
    "# plt.show()\n"
   ]
  },
  {
   "attachments": {},
   "cell_type": "markdown",
   "metadata": {},
   "source": [
    "# Construct response matrix for all diferent blocks of a cassette"
   ]
  },
  {
   "cell_type": "code",
   "execution_count": 12,
   "metadata": {},
   "outputs": [],
   "source": [
    "def do_block_displacement(delta, block):\n",
    "    block.shift([0, -delta.gap/2, 0])\n",
    "    center = np.array(block.center_point)\n",
    "    center[0] = 0\n",
    "    center[1] = 0\n",
    "    block.shift(-center)\n",
    "    block.rotate([0, 0, 0], [0, 0, 1], -np.pi/4)\n"
   ]
  },
  {
   "cell_type": "code",
   "execution_count": 13,
   "metadata": {},
   "outputs": [],
   "source": [
    "def calculate_jac_elements(delta, rx, rz):\n",
    "    blocks = [\n",
    "        delta.cassettes_ref['cid'].blocks[block_nr] for block_nr in\n",
    "        np.arange(0, 8, 1)]\n",
    "    blocks += [\n",
    "            delta.cassettes_ref['cid'].blocks[-4],\n",
    "            delta.cassettes_ref['cid'].blocks[-2]]\n",
    "    nr_blocks = len(blocks)\n",
    "\n",
    "    x = rx\n",
    "    z = rz\n",
    "\n",
    "    dmag = 0.02\n",
    "    delta_mags = [np.array([dmag, 0, 0]),\n",
    "                  np.array([0, dmag, 0]),\n",
    "                  np.array([0, 0, dmag]),\n",
    "                  ]\n",
    "\n",
    "    jac_elem = np.zeros((len(z), len(x), len(delta_mags), nr_blocks, 3))\n",
    "\n",
    "    for k, block in enumerate(blocks):\n",
    "        print('block: ', k)\n",
    "        for i, x_ in enumerate(x):\n",
    "            for j, d_mag in enumerate(delta_mags):\n",
    "                block.magnetization = np.array(block.magnetization) + d_mag\n",
    "                do_block_displacement(delta, block)\n",
    "                field_p = block.get_field(x=x_, y=0, z=z, nproc=24)\n",
    "\n",
    "                block.magnetization = np.array(block.magnetization) - 2*d_mag\n",
    "                do_block_displacement(delta, block)\n",
    "                field_n = block.get_field(x=x_, y=0, z=z, nproc=24)\n",
    "\n",
    "                block.magnetization = np.array(block.magnetization) + d_mag\n",
    "                do_block_displacement(delta, block)\n",
    "                diff = (field_p - field_n)/(2*dmag)\n",
    "                half_size = int(len(z)/2)\n",
    "                diff[0:half_size-600] = 0\n",
    "                diff[half_size+600:] = 0\n",
    "\n",
    "                jac_elem[:, i, j, k, :] = diff\n",
    "    return jac_elem\n"
   ]
  },
  {
   "cell_type": "code",
   "execution_count": 14,
   "metadata": {},
   "outputs": [],
   "source": [
    "# def calculate_jac_elements(delta):\n",
    "#     blocks = [delta.cassettes_ref['cid'].blocks[block_nr] for block_nr in np.arange(0,6,2)]\n",
    "#     nr_blocks = len(blocks)\n",
    "\n",
    "#     x = rx\n",
    "#     z = rz\n",
    "\n",
    "#     dmag = 0.02\n",
    "#     delta_mags = [np.array([dmag, 0, 0]),\n",
    "#                   np.array([0, dmag, 0]),\n",
    "#                   np.array([0, 0, dmag]),\n",
    "#                   ]\n",
    "\n",
    "#     jac_elem = np.zeros((len(z), len(x), len(delta_mags), nr_blocks, 3))\n",
    "\n",
    "#     for k, block in enumerate(blocks):\n",
    "#         print('block: ', k)\n",
    "#         for i, x_ in enumerate(x):\n",
    "#             for j, delta_mag in enumerate(delta_mags):\n",
    "#                 block.magnetization = np.array(block.magnetization) + delta_mag\n",
    "#                 do_block_displacement(delta, block)\n",
    "#                 field_p = block.get_field(x=x_, y=0, z=z, nproc=24)\n",
    "\n",
    "#                 block.magnetization = np.array(block.magnetization) - 2*delta_mag\n",
    "#                 do_block_displacement(delta, block)\n",
    "#                 field_n = block.get_field(x=x_, y=0, z=z, nproc=24)\n",
    "\n",
    "#                 block.magnetization = np.array(block.magnetization) + delta_mag\n",
    "#                 do_block_displacement(delta, block)\n",
    "#                 diff = (field_p - field_n)/(2*dmag)\n",
    "#                 half_size = int(len(z)/2)\n",
    "#                 diff[0:half_size-600] = 0\n",
    "#                 diff[half_size+600:] = 0\n",
    "\n",
    "#                 jac_elem[:, i, j, k, :] = diff\n",
    "#     return jac_elem\n"
   ]
  },
  {
   "cell_type": "code",
   "execution_count": 15,
   "metadata": {},
   "outputs": [],
   "source": [
    "def transform_ci_2_cs(jac_elem):\n",
    "    # delta x\n",
    "    jac_elem[:, :, 0, :, 0] = -1*jac_elem[:, :, 0, :, 0]  # Change Bx signal\n",
    "    jac_elem[:, :, 0, :, 2] = -1*jac_elem[:, :, 0, :, 2]  # Change Bz signal\n",
    "\n",
    "    # delta y\n",
    "    jac_elem[:, :, 1, :, 1] = -1*jac_elem[:, :, 1, :, 1]  # Change By signal\n",
    "\n",
    "    # delta z\n",
    "    jac_elem[:, :, 2, :, 1] = -1*jac_elem[:, :, 2, :, 1]  # Change By signal\n",
    "    return jac_elem\n",
    "\n",
    "def transform_cd_2_ce(jac_elem):\n",
    "    jac_elem[:, :, :, :, :] = jac_elem[:, ::-1, :, :, :]  # Invert x grid\n",
    "\n",
    "    # delta x\n",
    "    jac_elem[:, :, 0, :, 1] = -1*jac_elem[:, :, 0, :, 1]  # Change By signal\n",
    "    jac_elem[:, :, 0, :, 2] = -1*jac_elem[:, :, 0, :, 2]  # Change Bz signal\n",
    "\n",
    "    # delta y\n",
    "    jac_elem[:, :, 1, :, 0] = -1*jac_elem[:, :, 1, :, 0]  # Change Bx signal\n",
    "\n",
    "    # delta z\n",
    "    jac_elem[:, :, 2, :, 0] = -1*jac_elem[:, :, 2, :, 0]  # Change Bx signal\n",
    "    return jac_elem\n",
    "\n",
    "def transform_cid_2_cse(jac_elem):\n",
    "    jac_cie = transform_cd_2_ce(jac_elem)  # Transform to cie\n",
    "    jac_cse = transform_ci_2_cs(jac_cie)  # Transform to cse\n",
    "    return jac_cse\n"
   ]
  },
  {
   "cell_type": "code",
   "execution_count": 16,
   "metadata": {},
   "outputs": [],
   "source": [
    "def create_pre_jacobian(jac_elem):\n",
    "    cid = jac_elem.copy()\n",
    "    cie = jac_elem.copy()\n",
    "    csd = jac_elem.copy()\n",
    "    cse = jac_elem.copy()\n",
    "\n",
    "    csd = transform_ci_2_cs(csd)\n",
    "    cie = transform_cd_2_ce(cie)\n",
    "    cse = transform_cid_2_cse(cse)\n",
    "\n",
    "    pre_jacobians = {\n",
    "                     'cse': cse,\n",
    "                     'csd': csd,\n",
    "                     'cie': cie,\n",
    "                     'cid': cid,\n",
    "                    }\n",
    "    return pre_jacobians\n"
   ]
  },
  {
   "cell_type": "code",
   "execution_count": 17,
   "metadata": {},
   "outputs": [],
   "source": [
    "def get_block_type(block_number, nr_blocks):\n",
    "    if block_number <= 3:\n",
    "        block_type = block_number\n",
    "    elif block_number <= nr_blocks-5:\n",
    "        block_type = (block_number-4) % 4 + 4\n",
    "    else:\n",
    "        cont = -1*(nr_blocks-block_number-4)\n",
    "        if cont % 2 != 0:\n",
    "            block_type = nr_blocks-block_number-1\n",
    "        elif cont == 0:\n",
    "            block_type = 8\n",
    "        else:\n",
    "            block_type = 9\n",
    "    return block_type\n"
   ]
  },
  {
   "cell_type": "code",
   "execution_count": null,
   "metadata": {},
   "outputs": [],
   "source": [
    "# def get_block_type(block_number, nr_blocks):\n",
    "#     block_selector = 2*np.ones(nr_blocks)\n",
    "#     block_selector[0:2] = 0\n",
    "#     block_selector[nr_blocks-2:] = 0\n",
    "#     block_selector[2:4] = 1\n",
    "#     block_selector[nr_blocks-4:nr_blocks-2] = 1\n",
    "#     block_type = block_selector[block_number]\n",
    "#     return int(block_type)\n"
   ]
  },
  {
   "cell_type": "code",
   "execution_count": null,
   "metadata": {},
   "outputs": [],
   "source": [
    "for j, block in enumerate(delta.cassettes_ref['cid'].blocks):\n",
    "    block_type = get_block_type(j, len(delta.cassettes_ref['cid'].blocks))\n",
    "    print(block.length, block.magnetization, block_type)\n"
   ]
  },
  {
   "cell_type": "code",
   "execution_count": null,
   "metadata": {},
   "outputs": [],
   "source": [
    "def create_jacobian(pre_jacobians, delta):\n",
    "    nr_blocks = delta.cassettes_ref['cid'].nr_blocks\n",
    "    z_step = np.diff(rz)[0]\n",
    "    jacobian = np.zeros((len(rz)*len(rx)*3, 4*nr_blocks*3))\n",
    "    cas_names = get_cassettes_names(delta)\n",
    "    for i, cas_name in enumerate(cas_names):\n",
    "        cas_shift = delta.cassettes_ref[cas_name].center_point[-1]\n",
    "        for j, block in enumerate(delta.cassettes_ref[cas_name].blocks):\n",
    "            block_shift = block.center_point[-1]\n",
    "            bl_type = get_block_type(j, nr_blocks)\n",
    "            idx = np.argmin(np.abs(rz-(block_shift + cas_shift)))\n",
    "            shift = idx - np.argmin(np.abs(rz))\n",
    "            shifted_prejac = np.roll(pre_jacobians[cas_name], shift, 0)\n",
    "            for mag in np.arange(3):\n",
    "                column = 3*i*nr_blocks + 3*j + mag\n",
    "                jacobian[:, column] = shifted_prejac[:, :, mag, bl_type, :].ravel(order='F')\n",
    "    return jacobian\n"
   ]
  },
  {
   "attachments": {},
   "cell_type": "markdown",
   "metadata": {},
   "source": [
    "#### order of jacobian columns: z -> x -> b"
   ]
  },
  {
   "attachments": {},
   "cell_type": "markdown",
   "metadata": {},
   "source": [
    "#### order of jacobian lines: mag -> block -> cassette"
   ]
  },
  {
   "cell_type": "code",
   "execution_count": null,
   "metadata": {},
   "outputs": [],
   "source": [
    "def calc_inverse_jacobian(jacobian):\n",
    "    u, s, vt = np.linalg.svd(jacobian, full_matrices=False)\n",
    "    tol_svals = 1e-5\n",
    "    sel_svals = abs(s) > tol_svals\n",
    "    ismat = np.zeros(s.shape)\n",
    "    ismat[sel_svals] = 1/s[sel_svals]\n",
    "    ismat = np.diag(ismat)\n",
    "    invmat = np.dot(np.dot(vt.T, ismat), u.T)\n",
    "    return invmat, u, s, vt\n"
   ]
  },
  {
   "cell_type": "code",
   "execution_count": null,
   "metadata": {},
   "outputs": [],
   "source": [
    "def calc_field_difference(full_field_meas):\n",
    "    full_field_model = get_full_field_model(rx, rz, delta)\n",
    "    full_field_model = np.swapaxes(full_field_model, 0, 1)\n",
    "    field_diff = (full_field_meas - full_field_model).ravel(order='F')\n",
    "    return field_diff\n"
   ]
  },
  {
   "cell_type": "code",
   "execution_count": null,
   "metadata": {},
   "outputs": [],
   "source": [
    "# Code for tests with other model\n",
    "phase, dgv = 0, 0\n",
    "delta2 = generate_radia_model(phase=phase, dgv=dgv)\n",
    "mag_dict = dict()\n",
    "for i, cas_name in enumerate(cas_names):\n",
    "        mag_list = list()\n",
    "        for j, block in enumerate(delta2.cassettes_ref[cas_name].blocks):\n",
    "                mag_list.append(1e0*np.array(block.magnetization) + 1*np.random.rand(3))\n",
    "        mag_dict[cas_name] = mag_list\n",
    "delta2.create_radia_object(magnetization_dict=mag_dict)\n",
    "delta2.set_cassete_positions(dp=phase, dgv=dgv)\n",
    "full_field_meas = get_full_field_model(rx, rz, delta2)\n",
    "full_field_meas = np.swapaxes(full_field_meas, 0, 1)\n"
   ]
  },
  {
   "cell_type": "code",
   "execution_count": null,
   "metadata": {},
   "outputs": [],
   "source": [
    "phase, dgv = 0, 0\n",
    "imaids.utils.set_len_tol(5e-10, 5e-10)\n",
    "delta = generate_radia_model(phase=phase, dgv=dgv)\n",
    "jac_elem = load_pickle('jac_elements_v0.pickle')\n",
    "pre_jacobians = create_pre_jacobian(jac_elem)\n",
    "jacobian = create_jacobian(pre_jacobians, delta)\n",
    "invmat, u, s, vt = calc_inverse_jacobian(jacobian)\n"
   ]
  },
  {
   "cell_type": "code",
   "execution_count": null,
   "metadata": {},
   "outputs": [],
   "source": [
    "#  create radia model\n",
    "phase, dgv = -3.14, 15\n",
    "imaids.utils.set_len_tol(5e-10, 5e-10)\n",
    "delta_nominal = generate_radia_model(phase=phase, dgv=dgv)\n",
    "cas_names = get_cassettes_names(delta)\n",
    "\n",
    "full_field_model0 = get_full_field_model(rx, rz, delta_nominal)\n",
    "full_field_model0 = np.swapaxes(full_field_model0, 0, 1)\n"
   ]
  },
  {
   "cell_type": "code",
   "execution_count": null,
   "metadata": {},
   "outputs": [],
   "source": [
    "#  create radia model\n",
    "phase, dgv = 0, 0\n",
    "imaids.utils.set_len_tol(5e-10, 5e-10)\n",
    "delta = generate_radia_model(phase=phase, dgv=dgv)\n",
    "cas_names = get_cassettes_names(delta)\n",
    "\n",
    "# Load fmap\n",
    "# fmap = get_fieldmap(phase=phase, dgv=dgv)\n",
    "# full_field_meas = get_full_field(fmap)\n",
    "# full_field_meas = np.swapaxes(full_field_meas, 0, 1)\n",
    "# rx = fmap.rx\n",
    "# ry = fmap.ry\n",
    "# rz = fmap.rz\n",
    "nr_blocks = delta.cassettes_ref[cas_names[0]].nr_blocks\n",
    "\n",
    "# Calc jacobian\n",
    "# jac_elem = calculate_jac_elements(delta)\n",
    "# save_pickle(jac_elem, 'jac_elements_3blocks', overwrite=True)\n",
    "jac_elem = load_pickle('jac_elements_v0.pickle')\n",
    "pre_jacobians = create_pre_jacobian(jac_elem)\n",
    "jacobian = create_jacobian(pre_jacobians, delta)\n",
    "invmat, u, s, vt = calc_inverse_jacobian(jacobian)\n",
    "\n",
    "residue = list()\n",
    "for k in range(15):\n",
    "    print('iteraction: ', k)\n",
    "    field_diff = calc_field_difference(full_field_meas)\n",
    "    residue_ = np.std(field_diff)\n",
    "    residue.append(residue_)\n",
    "    print(residue_)\n",
    "    # idx = np.argwhere(np.abs(field_diff) < 1e-6)\n",
    "    # field_diff[idx] = 0\n",
    "\n",
    "    deltas = np.dot(invmat, field_diff)\n",
    "    deltas = deltas.reshape((len(cas_names), nr_blocks, 3))\n",
    "    mag_dict = dict()\n",
    "    cas_names = get_cassettes_names(delta)\n",
    "    for i, cas_name in enumerate(cas_names):\n",
    "        mag_list = list()\n",
    "        for j, block in enumerate(delta.cassettes_ref[cas_name].blocks):\n",
    "            mag_list.append( np.array(block.magnetization) + deltas[i, j, :])\n",
    "        mag_dict[cas_name] = mag_list\n",
    "    delta.create_radia_object(magnetization_dict=mag_dict)\n",
    "    delta.set_cassete_positions(dp=phase, dgv=dgv)\n"
   ]
  },
  {
   "cell_type": "code",
   "execution_count": null,
   "metadata": {},
   "outputs": [],
   "source": [
    "full_field_model = get_full_field_model(rx, rz, delta)\n",
    "full_field_model = np.swapaxes(full_field_model, 0, 1)\n",
    "field_diff = (full_field_meas - full_field_model).ravel(order='F')\n",
    "residue_ = np.std(field_diff)\n",
    "print(residue_)\n",
    "residue.append(residue_)\n"
   ]
  },
  {
   "cell_type": "code",
   "execution_count": null,
   "metadata": {},
   "outputs": [],
   "source": [
    "%matplotlib qt5\n",
    "comp = 1\n",
    "plt.plot(rz, full_field_model0[:, 0, comp], label='model nominal')\n",
    "plt.plot(rz, full_field_model[:, 0, comp], label='model fitted')\n",
    "plt.plot(rz, full_field_meas[:, 0, comp], label='meas')\n",
    "plt.xlabel('z [mm]')\n",
    "plt.ylabel('B [T]')\n",
    "plt.legend()\n"
   ]
  },
  {
   "cell_type": "code",
   "execution_count": null,
   "metadata": {},
   "outputs": [],
   "source": [
    "%matplotlib qt5\n",
    "comp = 0\n",
    "plane = 10\n",
    "diff = -full_field_meas[:, plane, comp] + full_field_model[:, plane, comp]\n",
    "\n",
    "\n",
    "kick_res = 1e5*np.trapz(rz*1e-3, diff)\n",
    "print(kick_res)\n",
    "\n",
    "plt.plot(rz, full_field_meas[:, plane, comp], label='meas')\n",
    "plt.plot(rz, full_field_model[:, plane, comp], label='model_1')\n",
    "# plt.plot(rz, diff, label='Diff')\n",
    "plt.xlabel('z [mm]')\n",
    "plt.ylabel('B [T]')\n",
    "plt.legend()\n"
   ]
  },
  {
   "cell_type": "code",
   "execution_count": null,
   "metadata": {},
   "outputs": [],
   "source": [
    "diff = -full_field_meas[:, plane, comp] + full_field_model[:, plane, comp]\n",
    "kick_res = 1e5*np.trapz(rz*1e-3, diff)\n",
    "print(kick_res)\n",
    "\n",
    "plt.plot(rz, diff, label='Diff')\n",
    "plt.xlabel('z [mm]')\n",
    "plt.ylabel('B [T]')\n",
    "plt.legend()\n"
   ]
  },
  {
   "cell_type": "code",
   "execution_count": null,
   "metadata": {},
   "outputs": [],
   "source": [
    "phase, dgv = 0, 0\n",
    "p = str(int(np.modf(np.abs(phase))[-1]))\n",
    "gv = str(int(np.modf(np.abs(dgv))[-1]))\n",
    "mag_fname = './mags/p{}_dgv{}.pickle'.format(p, gv)\n",
    "print(mag_fname)\n"
   ]
  },
  {
   "cell_type": "code",
   "execution_count": null,
   "metadata": {},
   "outputs": [],
   "source": [
    "delta = DeltaSabia()\n",
    "delta.set_cassete_positions(dp=phase, dgv=dgv)\n",
    "full_field_model0 = get_full_field_model(rx, rz, delta)\n",
    "full_field_model0 = np.swapaxes(full_field_model0, 0, 1)\n"
   ]
  },
  {
   "cell_type": "code",
   "execution_count": null,
   "metadata": {},
   "outputs": [],
   "source": [
    "mag_dict = load_pickle(mag_fname)\n",
    "delta = DeltaSabia()\n",
    "delta.create_radia_object(magnetization_dict=mag_dict)\n",
    "delta.set_cassete_positions(dp=phase, dgv=dgv)\n",
    "full_field_model = get_full_field_model(rx, rz, delta)\n",
    "full_field_model = np.swapaxes(full_field_model, 0, 1)\n"
   ]
  },
  {
   "cell_type": "code",
   "execution_count": null,
   "metadata": {},
   "outputs": [],
   "source": [
    "fmap = get_fieldmap(phase=phase, dgv=dgv)\n",
    "full_field_meas = get_full_field(fmap)\n",
    "full_field_meas = np.swapaxes(full_field_meas, 0, 1)\n"
   ]
  },
  {
   "cell_type": "code",
   "execution_count": null,
   "metadata": {},
   "outputs": [],
   "source": [
    "%matplotlib qt5\n",
    "fig, axs = plt.subplots(3, 1, sharex=True)\n",
    "fig.set_size_inches(15, 8)\n",
    "\n",
    "xpos = 0\n",
    "\n",
    "diffx = full_field_meas[:, xpos, 0] - full_field_model[:, xpos, 0]\n",
    "diffy = full_field_meas[:, xpos, 1] - full_field_model[:, xpos, 1]\n",
    "diffz = full_field_meas[:, xpos, 2] - full_field_model[:, xpos, 2]\n",
    "\n",
    "ix = cumtrapz(diffx)\n",
    "iy = cumtrapz(diffy)\n",
    "iz = cumtrapz(diffz)\n",
    "\n",
    "show_diff = True\n",
    "\n",
    "axs[0].set_title('On-axis fields')\n",
    "if not show_diff:\n",
    "    axs[0].plot(rz, full_field_model0[:, xpos, 0], color='C2', label='init model')\n",
    "    axs[0].plot(rz, full_field_meas[:, xpos, 0], color='C0', label='goal model')\n",
    "    axs[0].plot(rz, full_field_model[:, xpos, 0], color='C1', label='fitted model')\n",
    "    axs[0].set_ylabel('Bx [T]')\n",
    "else:\n",
    "    axs[0].plot(rz, diffx, color='C2', label='error')\n",
    "    axs[0].plot(rz[:-1], ix, color='C0', label='integrated error')\n",
    "    axs[0].set_ylabel('Bx [T]')\n",
    "axs[0].legend()\n",
    "\n",
    "if not show_diff:\n",
    "    axs[1].plot(rz, full_field_model0[:, xpos, 1], color='C2',)\n",
    "    axs[1].plot(rz, full_field_meas[:, xpos, 1], color='C0',)\n",
    "    axs[1].plot(rz, full_field_model[:, xpos, 1], color='C1',)\n",
    "    axs[1].set_ylabel('By [T]')\n",
    "else:\n",
    "    axs[1].plot(rz, diffy, color='C2', label='error')\n",
    "    axs[1].plot(rz[:-1], iy, color='C0', label='integrated error')\n",
    "    axs[1].set_ylabel('By [T]')\n",
    "\n",
    "if not show_diff:\n",
    "    axs[2].plot(rz, full_field_model0[:, xpos, 2], color='C2',)\n",
    "    axs[2].plot(rz, full_field_meas[:, xpos, 2], color='C0',)\n",
    "    axs[2].plot(rz, full_field_model[:, xpos, 2], color='C1',)\n",
    "    axs[2].set_ylabel('Bz [T]')\n",
    "else:\n",
    "    axs[2].plot(rz, diffz, color='C2', label='error')\n",
    "    axs[2].plot(rz[:-1], iz, color='C0', label='integrated error')\n",
    "    axs[2].set_ylabel('Bz [T]')\n",
    "axs[2].set_xlabel('z [mm]')\n"
   ]
  },
  {
   "cell_type": "code",
   "execution_count": null,
   "metadata": {},
   "outputs": [],
   "source": [
    "mag_final = np.zeros((4, 93, 3))\n",
    "mag_goal = np.zeros((4, 93, 3))\n",
    "for i, cas in enumerate(cas_names):\n",
    "    for j, block in enumerate(delta.cassettes_ref[cas].blocks):\n",
    "       mag_final[i, j, :] = block.magnetization\n",
    "       mag_goal[i, j, :] = delta2.cassettes_ref[cas].blocks[j].magnetization\n"
   ]
  },
  {
   "cell_type": "code",
   "execution_count": null,
   "metadata": {},
   "outputs": [],
   "source": [
    "mag = 0\n",
    "cas = 2\n",
    "plt.title('x magnetization - CSE')\n",
    "plt.plot(mag_goal[cas,:, mag], 'o-', label='Goal magnetization')\n",
    "plt.plot(mag_final[cas,:, mag], '.-', label='Fitted magnetization')\n",
    "plt.xlabel('Block number')\n",
    "plt.ylabel('Remanent magnetization [T]')\n",
    "plt.legend()\n"
   ]
  },
  {
   "attachments": {},
   "cell_type": "markdown",
   "metadata": {},
   "source": [
    "## Tests with block displacement in jacobian"
   ]
  },
  {
   "cell_type": "code",
   "execution_count": 18,
   "metadata": {},
   "outputs": [],
   "source": [
    "cas_2_angle = dict()\n",
    "cas_2_angle['cid'] = -np.pi/4\n",
    "cas_2_angle['csd'] = -3*np.pi/4\n",
    "cas_2_angle['cie'] = np.pi/4\n",
    "cas_2_angle['cse'] = 3*np.pi/4\n"
   ]
  },
  {
   "cell_type": "code",
   "execution_count": 19,
   "metadata": {},
   "outputs": [],
   "source": [
    "def do_block_displacement(delta, block, cas):\n",
    "    block.shift([0, -delta.gap/2, 0])\n",
    "    center = np.array(block.center_point)\n",
    "    center[0] = 0\n",
    "    center[1] = 0\n",
    "    block.shift(-center)\n",
    "    block.rotate([0, 0, 0], [0, 0, 1], cas_2_angle[cas])\n"
   ]
  },
  {
   "cell_type": "code",
   "execution_count": 20,
   "metadata": {},
   "outputs": [],
   "source": [
    "def do_block_shift(block, shift_list, cas):\n",
    "    x = shift_list[0]\n",
    "    y = shift_list[1]\n",
    "    shiftb = np.array([x, y])\n",
    "\n",
    "    # Apply local shift to block\n",
    "    theta = cas_2_angle[cas]\n",
    "    M = np.zeros((2, 2))\n",
    "    M[0, 0] = np.cos(theta)\n",
    "    M[0, 1] = -np.sin(theta)\n",
    "    M[1, 0] = np.sin(theta)\n",
    "    M[1, 1] = np.cos(theta)\n",
    "    shift = np.dot(M, shiftb)\n",
    "    block.shift([shift[0], shift[1], 0])\n"
   ]
  },
  {
   "cell_type": "code",
   "execution_count": 36,
   "metadata": {},
   "outputs": [],
   "source": [
    "def calculate_jac_elements_all(delta, rx, rz, cas='cid'):\n",
    "    blocks = [\n",
    "        delta.cassettes_ref[cas].blocks[block_nr] for block_nr in\n",
    "        np.arange(0, 8, 1)]\n",
    "    blocks += [\n",
    "            delta.cassettes_ref[cas].blocks[-4],\n",
    "            delta.cassettes_ref[cas].blocks[-2]]\n",
    "    nr_blocks = len(blocks)\n",
    "\n",
    "    x = rx\n",
    "    z = rz\n",
    "\n",
    "    dmag = 0.04\n",
    "    dshift = 0.04\n",
    "\n",
    "    delta_shifts = [np.array([dshift, 0, 0]),\n",
    "                    np.array([0, dshift, 0])]\n",
    "\n",
    "    delta_mags = [np.array([dmag, 0, 0]),\n",
    "                  np.array([0, dmag, 0]),\n",
    "                  np.array([0, 0, dmag]),\n",
    "                  ]\n",
    "\n",
    "    jac_elem = np.zeros((len(z), len(x), len(delta_mags)+len(delta_shifts), nr_blocks, 3))\n",
    "\n",
    "    z_range = 600  # [mm]\n",
    "    sel = (z >= z_range/2) | (z <= -z_range/2)\n",
    "\n",
    "    for k, block in enumerate(blocks):\n",
    "        print('block: ', k)\n",
    "        for i, x_ in enumerate(x):\n",
    "            for j, d_mag in enumerate(delta_mags):\n",
    "\n",
    "                block.magnetization = np.array(block.magnetization) + d_mag/2\n",
    "                do_block_displacement(delta, block, cas)\n",
    "                field_p = block.get_field(x=x_, y=0, z=z, nproc=24)\n",
    "\n",
    "\n",
    "                block.magnetization = np.array(block.magnetization) - d_mag\n",
    "                do_block_displacement(delta, block, cas)\n",
    "                field_n = block.get_field(x=x_, y=0, z=z, nproc=24)\n",
    "\n",
    "                block.magnetization = np.array(block.magnetization) + d_mag/2\n",
    "                do_block_displacement(delta, block, cas)\n",
    "\n",
    "                diff = (field_p - field_n)/dmag\n",
    "                diff[sel] = 0\n",
    "\n",
    "                jac_elem[:, i, j, k, :] = diff\n",
    "\n",
    "            for j, d_shift in enumerate(delta_shifts):\n",
    "                do_block_shift(block, d_shift/2, cas)\n",
    "                field_p = block.get_field(x=x_, y=0, z=z, nproc=24)\n",
    "\n",
    "                do_block_shift(block, -d_shift, cas)\n",
    "                field_n = block.get_field(x=x_, y=0, z=z, nproc=24)\n",
    "\n",
    "                do_block_shift(block, d_shift/2, cas)\n",
    "\n",
    "                diff = (field_p - field_n)/dshift\n",
    "                diff[sel] = 0\n",
    "\n",
    "                jac_elem[:, i, len(delta_mags) + j, k, :] = diff\n",
    "\n",
    "    return jac_elem\n"
   ]
  },
  {
   "cell_type": "code",
   "execution_count": null,
   "metadata": {},
   "outputs": [],
   "source": [
    "nr_points_z = 901\n",
    "nr_points_x = 3\n",
    "\n",
    "rx = np.linspace(-1,1,nr_points_x)\n",
    "rz = np.linspace(-900, 900, nr_points_z)\n",
    "\n",
    "delta = generate_radia_model()\n",
    "jac_elem_cid = calculate_jac_elements_all(delta, rx, rz, 'cid')\n",
    "\n",
    "delta = generate_radia_model()\n",
    "jac_elem_cie = calculate_jac_elements_all(delta, rx, rz, 'cie')\n",
    "\n",
    "delta = generate_radia_model()\n",
    "jac_elem_csd = calculate_jac_elements_all(delta, rx, rz, 'csd')\n",
    "\n",
    "delta = generate_radia_model()\n",
    "jac_elem_cse = calculate_jac_elements_all(delta, rx, rz, 'cse')\n"
   ]
  },
  {
   "cell_type": "code",
   "execution_count": 21,
   "metadata": {},
   "outputs": [],
   "source": [
    "def calculate_jac_elements_test(delta, rx, rz):\n",
    "    blocks = [\n",
    "        delta.cassettes_ref['cid'].blocks[1]]\n",
    "\n",
    "    nr_blocks = len(blocks)\n",
    "\n",
    "    # x = rx\n",
    "    x = [0]\n",
    "    z = rz\n",
    "\n",
    "    dshift = 0.02\n",
    "\n",
    "    delta_shifts = [np.array([dshift, 0, 0]),\n",
    "                    np.array([0, dshift, 0])]\n",
    "\n",
    "    jac_elem = np.zeros((len(z), len(x), len(delta_shifts), nr_blocks, 3))\n",
    "    for k, block in enumerate(blocks):\n",
    "        do_block_displacement(delta, block)\n",
    "        print('block: ', k)\n",
    "        for i, x_ in enumerate(x):\n",
    "\n",
    "\n",
    "            for j, d_shift in enumerate(delta_shifts):\n",
    "                print(block.magnetization)\n",
    "                print(block.center_point)\n",
    "                do_block_shift(block, d_shift)\n",
    "                field_p = block.get_field(x=x_, y=0, z=z, nproc=24)\n",
    "\n",
    "                print(block.center_point)\n",
    "                do_block_shift(block, -2*d_shift)\n",
    "                field_n = block.get_field(x=x_, y=0, z=z, nproc=24)\n",
    "\n",
    "                print(block.center_point)\n",
    "                do_block_shift(block, d_shift)\n",
    "                print(block.center_point)\n",
    "\n",
    "                diff = (field_p - field_n)/(2*dshift)\n",
    "                half_length = int(len(z)/2)\n",
    "                diff[0:half_length-600] = 0\n",
    "                diff[half_length+600:] = 0\n",
    "\n",
    "                jac_elem[:, i, j, k, :] = diff\n",
    "\n",
    "    return jac_elem\n"
   ]
  },
  {
   "cell_type": "code",
   "execution_count": 22,
   "metadata": {},
   "outputs": [],
   "source": [
    "def transform_cd_2_ce(jac_elem):\n",
    "    jac_elem[:, :, :, :, :] = jac_elem[:, ::-1, :, :, :]  # Invert x grid\n",
    "\n",
    "    # delta mx\n",
    "    jac_elem[:, :, 0, :, 1] = -1*jac_elem[:, :, 0, :, 1]  # Change By signal\n",
    "    jac_elem[:, :, 0, :, 2] = -1*jac_elem[:, :, 0, :, 2]  # Change Bz signal\n",
    "\n",
    "    # delta my\n",
    "    jac_elem[:, :, 1, :, 0] = -1*jac_elem[:, :, 1, :, 0]  # Change Bx signal\n",
    "\n",
    "    # delta mz\n",
    "    jac_elem[:, :, 2, :, 0] = -1*jac_elem[:, :, 2, :, 0]  # Change Bx signal\n",
    "\n",
    "    # delta rx\n",
    "    jac_elem[:, :, 3, :, 1] = -1*jac_elem[:, :, 3, :, 1]  # Change By signal\n",
    "    jac_elem[:, :, 3, :, 2] = -1*jac_elem[:, :, 3, :, 2]  # Change Bz signal\n",
    "\n",
    "    # delta ry\n",
    "    jac_elem[:, :, 4, :, 0] = -1*jac_elem[:, :, 4, :, 0]  # Change Bx signal\n",
    "\n",
    "    return jac_elem\n"
   ]
  },
  {
   "cell_type": "code",
   "execution_count": 23,
   "metadata": {},
   "outputs": [],
   "source": [
    "def transform_ci_2_cs(jac_elem):\n",
    "    # delta mx\n",
    "    jac_elem[:, :, 0, :, 0] = -1*jac_elem[:, :, 0, :, 0]  # Change Bx signal\n",
    "    jac_elem[:, :, 0, :, 2] = -1*jac_elem[:, :, 0, :, 2]  # Change Bz signal\n",
    "\n",
    "    # delta my\n",
    "    jac_elem[:, :, 1, :, 1] = -1*jac_elem[:, :, 1, :, 1]  # Change By signal\n",
    "\n",
    "    # delta mz\n",
    "    jac_elem[:, :, 2, :, 1] = -1*jac_elem[:, :, 2, :, 1]  # Change By signal\n",
    "\n",
    "    # delta rx\n",
    "    jac_elem[:, :, 3, :, 0] = -1*jac_elem[:, :, 3, :, 0]  # Change Bx signal\n",
    "    jac_elem[:, :, 3, :, 2] = -1*jac_elem[:, :, 3, :, 2]  # Change Bz signal\n",
    "\n",
    "    # delta ry\n",
    "    jac_elem[:, :, 4, :, 1] = -1*jac_elem[:, :, 4, :, 1]  # Change By signal\n",
    "\n",
    "    return jac_elem\n"
   ]
  },
  {
   "cell_type": "code",
   "execution_count": 24,
   "metadata": {},
   "outputs": [],
   "source": [
    "def transform_cid_2_cse(jac_elem):\n",
    "    jac_cie = transform_cd_2_ce(jac_elem)  # Transform to cie\n",
    "    jac_cse = transform_ci_2_cs(jac_cie)  # Transform to cse\n",
    "    return jac_cse\n"
   ]
  },
  {
   "cell_type": "code",
   "execution_count": 25,
   "metadata": {},
   "outputs": [],
   "source": [
    "def create_pre_jacobian(jac_elem):\n",
    "    cid = jac_elem.copy()\n",
    "    cie = jac_elem.copy()\n",
    "    csd = jac_elem.copy()\n",
    "    cse = jac_elem.copy()\n",
    "\n",
    "    csd = transform_ci_2_cs(csd)\n",
    "    cie = transform_cd_2_ce(cie)\n",
    "    cse = transform_cid_2_cse(cse)\n",
    "\n",
    "    pre_jacobians = {\n",
    "                     'cse': cse,\n",
    "                     'csd': csd,\n",
    "                     'cie': cie,\n",
    "                     'cid': cid,\n",
    "                    }\n",
    "    return pre_jacobians\n"
   ]
  },
  {
   "cell_type": "code",
   "execution_count": 26,
   "metadata": {},
   "outputs": [],
   "source": [
    "def get_block_type(block_number, nr_blocks):\n",
    "    if block_number <= 3:\n",
    "        block_type = block_number\n",
    "    elif block_number <= nr_blocks-5:\n",
    "        block_type = (block_number-4) % 4 + 4\n",
    "    else:\n",
    "        cont = -1*(nr_blocks-block_number-4)\n",
    "        if cont % 2 != 0:\n",
    "            block_type = nr_blocks-block_number-1\n",
    "        elif cont == 0:\n",
    "            block_type = 8\n",
    "        else:\n",
    "            block_type = 9\n",
    "    return block_type\n"
   ]
  },
  {
   "cell_type": "code",
   "execution_count": 27,
   "metadata": {},
   "outputs": [],
   "source": [
    "def create_jacobian(pre_jacobians, delta, rx, rz):\n",
    "    nr_blocks = delta.cassettes_ref['cid'].nr_blocks\n",
    "    jacobian = np.zeros((len(rz)*len(rx)*3, 4*nr_blocks*5))\n",
    "    cas_names = get_cassettes_names(delta)\n",
    "    for i, cas_name in enumerate(cas_names):\n",
    "        cas_shift = delta.cassettes_ref[cas_name].center_point[-1]\n",
    "        for j, block in enumerate(delta.cassettes_ref[cas_name].blocks):\n",
    "            block_shift = block.center_point[-1]\n",
    "            bl_type = get_block_type(j, nr_blocks)\n",
    "            idx = np.argmin(np.abs(rz-(block_shift + cas_shift)))\n",
    "            shift = idx - np.argmin(np.abs(rz))\n",
    "            shifted_prejac = np.roll(pre_jacobians[cas_name], shift, 0)\n",
    "            for mag in np.arange(5):\n",
    "                column = 5*i*nr_blocks + 5*j + mag\n",
    "                jacobian[:, column] = shifted_prejac[:, :, mag, bl_type, :].ravel(order='F')\n",
    "    return jacobian\n"
   ]
  },
  {
   "cell_type": "code",
   "execution_count": 28,
   "metadata": {},
   "outputs": [],
   "source": [
    "def calc_inverse_jacobian(jacobian):\n",
    "    u, s, vt = np.linalg.svd(jacobian, full_matrices=False)\n",
    "    tol_svals = 1e-5\n",
    "    sel_svals = abs(s) > tol_svals\n",
    "    ismat = np.zeros(s.shape)\n",
    "    ismat[sel_svals] = 1/s[sel_svals]\n",
    "    ismat = np.diag(ismat)\n",
    "    invmat = np.dot(np.dot(vt.T, ismat), u.T)\n",
    "    return invmat, u, s, vt\n"
   ]
  },
  {
   "cell_type": "code",
   "execution_count": 29,
   "metadata": {},
   "outputs": [],
   "source": [
    "def normalize_jacobian(jac_elem):\n",
    "    jac_elem = np.swapaxes(jac_elem, -1, 2)\n",
    "    shape = jac_elem.shape\n",
    "\n",
    "    aux_elem = jac_elem.reshape(\n",
    "        shape[0]*shape[1]*shape[2]*shape[3], 5, order='F')\n",
    "\n",
    "    std_mag = np.std(\n",
    "        np.concatenate((aux_elem[:, 0],aux_elem[:, 1],aux_elem[:, 2])))\n",
    "    convx = std_mag/np.std(aux_elem[:, 3])\n",
    "    convy = std_mag/np.std(aux_elem[:, 4])\n",
    "    aux_elem[:, 3] *= convx\n",
    "    aux_elem[:, 4] *= convy\n",
    "\n",
    "    aux_elem = aux_elem.reshape(shape, order='F')\n",
    "    jac_elem = np.swapaxes(aux_elem, -1, 2)\n",
    "    return  jac_elem, convx, convy\n"
   ]
  },
  {
   "cell_type": "code",
   "execution_count": 30,
   "metadata": {},
   "outputs": [
    {
     "name": "stdout",
     "output_type": "stream",
     "text": [
      "ID4818\n"
     ]
    }
   ],
   "source": [
    "imaids.utils.set_len_tol(5e-10, 5e-10)\n",
    "delta = generate_radia_model(phase=0, dgv=0)\n",
    "cas_names = get_cassettes_names(delta)\n",
    "\n",
    "fmap = get_fieldmap(phase=0, dgv=0)\n",
    "rx = fmap.rx\n",
    "ry = fmap.ry\n",
    "rz = fmap.rz\n",
    "\n",
    "# jac_elem = calculate_jac_elements_all(delta, rx, rz)\n",
    "# save_pickle(jac_elem, 'jac_elements_block_disp', overwrite=True)\n"
   ]
  },
  {
   "cell_type": "code",
   "execution_count": 37,
   "metadata": {},
   "outputs": [
    {
     "name": "stdout",
     "output_type": "stream",
     "text": [
      "block:  0\n",
      "block:  1\n",
      "block:  2\n",
      "block:  3\n",
      "block:  4\n",
      "block:  5\n",
      "block:  6\n",
      "block:  7\n",
      "block:  8\n",
      "block:  9\n"
     ]
    }
   ],
   "source": [
    "# jac_elem = load_pickle('jac_elements_block_disp.pickle')\n",
    "nr_points_z = 901\n",
    "nr_points_x = 3\n",
    "\n",
    "rx = np.linspace(-1,1,nr_points_x)\n",
    "rz = np.linspace(-900, 900, nr_points_z)\n",
    "\n",
    "jac_elem = calculate_jac_elements_all(delta, rx, rz)\n",
    "jac_elem, convx, convy = normalize_jacobian(jac_elem)\n",
    "pre_jacobians = create_pre_jacobian(jac_elem)\n",
    "\n",
    "delta = generate_radia_model(phase=0, dgv=0)\n",
    "jacobian = create_jacobian(pre_jacobians, delta, rx, rz)\n",
    "invmat, u, s, vt = calc_inverse_jacobian(jacobian)\n"
   ]
  },
  {
   "cell_type": "code",
   "execution_count": null,
   "metadata": {},
   "outputs": [],
   "source": [
    "plt.plot(jac_elem[:, 1, 0, 9, 2])\n"
   ]
  },
  {
   "cell_type": "code",
   "execution_count": null,
   "metadata": {},
   "outputs": [],
   "source": [
    "plt.plot(np.log10(s), '.')\n"
   ]
  },
  {
   "cell_type": "code",
   "execution_count": null,
   "metadata": {},
   "outputs": [],
   "source": [
    "a = np.array([1, 2, 3, 4])\n",
    "sel = (a < 2) | (a > 3)\n",
    "print(sel)\n"
   ]
  },
  {
   "cell_type": "code",
   "execution_count": 43,
   "metadata": {},
   "outputs": [
    {
     "name": "stdout",
     "output_type": "stream",
     "text": [
      "['cse', 'csd', 'cie', 'cid']\n"
     ]
    }
   ],
   "source": [
    "# Code for tests with other model\n",
    "phase, dgv = 0, 0\n",
    "delta2 = generate_radia_model(phase=phase, dgv=dgv, trf_on_blocks=False)\n",
    "print(cas_names)\n",
    "mag_dict = dict()\n",
    "mag_error = dict()\n",
    "error_dict = dict()\n",
    "for i, cas_name in enumerate(cas_names):\n",
    "        mag_list = list()\n",
    "        mag_error_list = list()\n",
    "        error_list = list()\n",
    "        for j, block in enumerate(delta2.cassettes_ref[cas_name].blocks):\n",
    "\n",
    "                error = 1*np.random.rand(3)\n",
    "                mag_list.append(1e0*np.array(block.magnetization) + error)\n",
    "                mag_error_list.append(error)\n",
    "                error_list.append(list(0*np.random.rand(2)) + [0])\n",
    "\n",
    "        mag_dict[cas_name] = mag_list\n",
    "        mag_error[cas_name] = mag_error_list\n",
    "        error_dict[cas_name] = error_list\n",
    "delta2.create_radia_object(magnetization_dict=mag_dict,\n",
    "                           position_err_dict=error_dict)\n",
    "delta2.set_cassete_positions(dp=phase, dgv=dgv)\n",
    "full_field_meas = get_full_field_model(rx, rz, delta2)\n",
    "full_field_meas = np.swapaxes(full_field_meas, 0, 1)\n"
   ]
  },
  {
   "cell_type": "code",
   "execution_count": 31,
   "metadata": {},
   "outputs": [],
   "source": [
    "delta = generate_radia_model()\n",
    "full_field_model0 = get_full_field_model(rx, rz, delta)\n",
    "full_field_model0 = np.swapaxes(full_field_model0, 0, 1)\n"
   ]
  },
  {
   "cell_type": "code",
   "execution_count": null,
   "metadata": {},
   "outputs": [],
   "source": [
    "%matplotlib inline\n",
    "delta = generate_radia_model()\n",
    "jac_elem = calculate_jac_elements_test(delta, rx, rz)\n",
    "jac_elem.shape\n",
    "plt.plot(jac_elem[:, 0, 1, 0, 2])\n"
   ]
  },
  {
   "cell_type": "code",
   "execution_count": null,
   "metadata": {},
   "outputs": [],
   "source": [
    "delta = generate_radia_model()\n",
    "block = delta.cassettes_ref['cid'].blocks[1]\n",
    "block.shift([0, -delta.gap/2, 0])\n",
    "print(block.center_point)\n",
    "\n",
    "field0 = block.get_field(x=0, y=0, z=rz, nproc=24)\n",
    "\n",
    "block.shift([0.01, 0, 0])\n",
    "fieldpx = block.get_field(x=0, y=0, z=rz, nproc=24)\n",
    "block.shift([-0.02, 0, 0])\n",
    "fieldnx = block.get_field(x=0, y=0, z=rz, nproc=24)\n",
    "\n",
    "block.shift([0.01, 0, 0])\n",
    "\n",
    "block.shift([0, 0.01, 0])\n",
    "fieldpy = block.get_field(x=0, y=0, z=rz, nproc=24)\n",
    "block.shift([0, -0.02, 0])\n",
    "fieldny = block.get_field(x=0, y=0, z=rz, nproc=24)\n",
    "\n",
    "block.shift([0, 0.01, 0])\n",
    "print(block.center_point)\n"
   ]
  },
  {
   "cell_type": "code",
   "execution_count": null,
   "metadata": {},
   "outputs": [],
   "source": [
    "fieldx = block.get_field(x=rx, y=0, z=block.center_point[-1], nproc=24)\n",
    "plt.plot(rx, fieldx[:, 2], '-o')\n"
   ]
  },
  {
   "cell_type": "code",
   "execution_count": null,
   "metadata": {},
   "outputs": [],
   "source": [
    "plt.plot(fieldpx[:, 2]-fieldnx[:, 2])\n",
    "# plt.plot(fieldpy[:, 2]-fieldny[:, 2])\n"
   ]
  },
  {
   "cell_type": "code",
   "execution_count": null,
   "metadata": {},
   "outputs": [],
   "source": [
    "delta.cassettes_ref['cid'].blocks[1].magnetization\n"
   ]
  },
  {
   "cell_type": "code",
   "execution_count": null,
   "metadata": {},
   "outputs": [],
   "source": [
    "bx = jac_elem[:, 5, 3, 1, 0]\n",
    "by = jac_elem[:, 5, 3, 1, 1]\n",
    "bz = jac_elem[:, 5, 3, 1, 2]\n",
    "plt.plot(bx, label='bx')\n",
    "plt.plot(by, label='by')\n",
    "plt.plot(bz, label='bz')\n",
    "plt.legend()\n",
    "plt.show()\n"
   ]
  },
  {
   "cell_type": "code",
   "execution_count": null,
   "metadata": {},
   "outputs": [],
   "source": [
    "cas_nr = 3\n",
    "nr_block = 40\n",
    "par = 4\n",
    "\n",
    "axis_nr = 0\n",
    "\n",
    "plt.figure(3)\n",
    "for nr_block in np.arange(0, 92, 1):\n",
    "    b = jacobian[((3*nr_points_z)*axis_nr):((3*nr_points_z)*(axis_nr+1)), cas_nr*5*93 + nr_block*5 + par]\n",
    "    bx = b[0*nr_points_z:1*nr_points_z]\n",
    "    by = b[1*nr_points_z:2*nr_points_z]\n",
    "    bz = b[2*nr_points_z:3*nr_points_z]\n",
    "    plt.plot(rz, bx, color=plt.cm.jet(nr_block/93), alpha=1, label='bx')\n",
    "    plt.plot(rz, by, color=plt.cm.jet(nr_block/93), alpha=.6, label='by')\n",
    "    plt.plot(rz, bz, color=plt.cm.jet(nr_block/93), alpha=.2, label='bz')\n",
    "    # plt.legend()\n",
    "plt.show()\n"
   ]
  },
  {
   "cell_type": "code",
   "execution_count": 42,
   "metadata": {},
   "outputs": [
    {
     "name": "stdout",
     "output_type": "stream",
     "text": [
      "['cse', 'csd', 'cie', 'cid']\n"
     ]
    }
   ],
   "source": [
    "# Code for tests with other model\n",
    "phase, dgv = 0, 0\n",
    "delta = generate_radia_model(phase=phase, dgv=dgv, trf_on_blocks=False)\n",
    "print(cas_names)\n",
    "mag_dict = dict()\n",
    "mag_error = dict()\n",
    "error_dict = dict()\n",
    "for i, cas_name in enumerate(cas_names):\n",
    "        mag_list = list()\n",
    "        mag_error_list = list()\n",
    "        error_list = list()\n",
    "        for j, block in enumerate(delta.cassettes_ref[cas_name].blocks):\n",
    "\n",
    "            mag_list.append(1e0*np.array(block.magnetization))\n",
    "            mag_error_list.append(error)\n",
    "            error_list.append(list(0*np.random.rand(2)) + [0])\n",
    "\n",
    "        mag_dict[cas_name] = mag_list\n",
    "        mag_error[cas_name] = mag_error_list\n",
    "        error_dict[cas_name] = error_list\n",
    "delta.create_radia_object(magnetization_dict=mag_dict)\n"
   ]
  },
  {
   "cell_type": "code",
   "execution_count": 44,
   "metadata": {},
   "outputs": [],
   "source": [
    "delta_nominal = generate_radia_model()\n",
    "full_field_model0 = get_full_field_model(rx, rz, delta_nominal)\n",
    "full_field_model0 = np.swapaxes(full_field_model0, 0, 1)\n",
    "delta_field = full_field_meas-full_field_model0\n"
   ]
  },
  {
   "cell_type": "code",
   "execution_count": 45,
   "metadata": {},
   "outputs": [],
   "source": [
    "delta_field = full_field_meas-full_field_model0\n"
   ]
  },
  {
   "cell_type": "code",
   "execution_count": 46,
   "metadata": {},
   "outputs": [
    {
     "data": {
      "text/plain": [
       "<matplotlib.legend.Legend at 0x7fcc43c22bb0>"
      ]
     },
     "execution_count": 46,
     "metadata": {},
     "output_type": "execute_result"
    }
   ],
   "source": [
    "plt.figure(1)\n",
    "plt.plot(full_field_meas[:, 1, 2], label='with errors')\n",
    "plt.plot(full_field_model0[:, 1, 2], label='nominal')\n",
    "plt.legend()\n"
   ]
  },
  {
   "cell_type": "code",
   "execution_count": 47,
   "metadata": {},
   "outputs": [],
   "source": [
    "deltas = np.zeros(93*4*5)\n",
    "for i, key in enumerate(mag_error.keys()):\n",
    "    for blck in np.arange(len(mag_error[key])):\n",
    "        for mag in np.arange(len(mag_error[key][blck])):\n",
    "            deltas[i*93*5 + blck*5 + mag] = mag_error[key][blck][mag]\n",
    "        for shift in np.arange(len(error_dict[key][blck])-1):\n",
    "            if shift == 0:\n",
    "                fac = convx\n",
    "            elif shift == 1:\n",
    "                fac = convy\n",
    "            deltas[i*93*5 + blck*5 + 3 + shift] = error_dict[key][blck][shift]*1/fac\n"
   ]
  },
  {
   "cell_type": "code",
   "execution_count": 48,
   "metadata": {},
   "outputs": [
    {
     "data": {
      "text/plain": [
       "array([0.94147653, 0.94395535, 0.98577953, 0.        , 0.        ,\n",
       "       0.28298431, 0.9138263 , 0.69326504, 0.        , 0.        ,\n",
       "       0.58133231, 0.21176425, 0.43282289, 0.        , 0.        ,\n",
       "       0.27748067, 0.96095648, 0.44009334, 0.        , 0.        ,\n",
       "       0.53744307, 0.25598178, 0.91923783, 0.        , 0.        ,\n",
       "       0.39169153, 0.36429054, 0.27470856, 0.        , 0.        ,\n",
       "       0.48646853, 0.34214933, 0.27574224, 0.        , 0.        ,\n",
       "       0.33500311, 0.93236628, 0.44031442, 0.        , 0.        ,\n",
       "       0.08196264, 0.81305604, 0.53920191, 0.        , 0.        ,\n",
       "       0.48190979, 0.89961741, 0.37767544, 0.        , 0.        ,\n",
       "       0.00896286, 0.07630972, 0.21001885, 0.        , 0.        ,\n",
       "       0.21641603, 0.59394108, 0.17376179, 0.        , 0.        ,\n",
       "       0.79921787, 0.80744554, 0.90085883, 0.        , 0.        ,\n",
       "       0.59103326, 0.82569022, 0.48143994, 0.        , 0.        ,\n",
       "       0.00099007, 0.98269082, 0.89772395, 0.        , 0.        ,\n",
       "       0.61817965, 0.48727709, 0.20530976, 0.        , 0.        ,\n",
       "       0.47411526, 0.59021887, 0.24091067, 0.        , 0.        ,\n",
       "       0.76580269, 0.16184646, 0.59038736, 0.        , 0.        ,\n",
       "       0.66790651, 0.84365719, 0.34864646, 0.        , 0.        ,\n",
       "       0.54262193, 0.41265412, 0.56170784, 0.        , 0.        ])"
      ]
     },
     "execution_count": 48,
     "metadata": {},
     "output_type": "execute_result"
    }
   ],
   "source": [
    "deltas[0:100]\n"
   ]
  },
  {
   "cell_type": "code",
   "execution_count": 49,
   "metadata": {},
   "outputs": [],
   "source": [
    "field0 = np.dot(jacobian, deltas)\n"
   ]
  },
  {
   "cell_type": "code",
   "execution_count": 50,
   "metadata": {},
   "outputs": [],
   "source": [
    "field = field0.reshape(full_field_meas.shape, order='F')\n"
   ]
  },
  {
   "cell_type": "code",
   "execution_count": 51,
   "metadata": {},
   "outputs": [],
   "source": [
    "field = field.ravel(order='F')\n",
    "delta_field = delta_field.ravel(order='F')\n"
   ]
  },
  {
   "cell_type": "code",
   "execution_count": 86,
   "metadata": {},
   "outputs": [],
   "source": [
    "%matplotlib qt5\n",
    "diff = field-delta_field\n",
    "std = np.std(diff)\n",
    "label = 'Difference -> std = {:.2f} G'.format(1e4*std)\n",
    "data = load_pickle('data')\n",
    "\n",
    "\n",
    "rz_n = data['rz']\n",
    "delta_field_jac = data['delta_field_jac']\n",
    "delta_field_model = data['delta_field_model']\n",
    "diff_n = delta_field_jac - delta_field_model\n",
    "std = np.std(diff_n)\n",
    "label_n = 'Difference -> std = {:.2f} G'.format(1e4*std)\n",
    "\n",
    "fig, axs = plt.subplots(2, 1,  sharex=True)\n",
    "fig.set_figwidth(8)\n",
    "fig.set_figheight(6)\n",
    "fig.suptitle(r'Fitting $\\Delta$B vs Model $\\Delta$B - lin H; K=0')\n",
    "axs[0].plot(rz, delta_field[-1-len(rz):-1], label='Perturbed model', color='C0')\n",
    "axs[0].plot(rz, field[-1-len(rz):-1], label='Fitting', color='C1')\n",
    "axs[0].plot(rz, diff[-1-len(rz):-1], label=label, color='C2')\n",
    "axs[1].plot(rz, delta_field_model[-1-len(rz):-1], label='Perturbed model', color='C0')\n",
    "axs[1].plot(rz_n, delta_field_jac[-1-len(rz):-1], label='Fitting', color='C1')\n",
    "axs[1].plot(rz, diff_n[-1-len(rz):-1], label=label_n, color='C2')\n",
    "axs[0].set_ylabel(r'$\\Delta$Bz [T]')\n",
    "axs[1].set_ylabel(r'$\\Delta$Bz [T]')\n",
    "axs[1].set_xlabel('rz [mm]')\n",
    "axs[0].legend(loc='upper left')\n",
    "axs[1].legend(loc='upper left')\n",
    "plt.savefig('New_jacobian_test.png')\n"
   ]
  },
  {
   "cell_type": "code",
   "execution_count": 39,
   "metadata": {},
   "outputs": [
    {
     "name": "stderr",
     "output_type": "stream",
     "text": [
      "Warning: Ignoring XDG_SESSION_TYPE=wayland on Gnome. Use QT_QPA_PLATFORM=wayland to run on Wayland anyway.\n"
     ]
    },
    {
     "data": {
      "text/plain": [
       "<matplotlib.legend.Legend at 0x7f9ba2a01610>"
      ]
     },
     "execution_count": 39,
     "metadata": {},
     "output_type": "execute_result"
    }
   ],
   "source": [
    "%matplotlib qt5\n",
    "plt.figure(2)\n",
    "plt.plot(field, label='jacobian')\n",
    "plt.plot(delta_field, label='model')\n",
    "plt.plot(field-delta_field, label='diff')\n",
    "plt.legend()\n"
   ]
  },
  {
   "cell_type": "code",
   "execution_count": null,
   "metadata": {},
   "outputs": [],
   "source": [
    "delta_test = np.dot(invmat, delta_field)\n",
    "field2 = np.dot(jacobian, delta_test)\n"
   ]
  },
  {
   "cell_type": "code",
   "execution_count": null,
   "metadata": {},
   "outputs": [],
   "source": [
    "plt.plot(field)\n",
    "plt.plot(field2)\n",
    "plt.plot(field2-field)\n"
   ]
  },
  {
   "cell_type": "code",
   "execution_count": null,
   "metadata": {},
   "outputs": [],
   "source": [
    "plt.plot(delta_test, '-o')\n"
   ]
  },
  {
   "cell_type": "code",
   "execution_count": null,
   "metadata": {},
   "outputs": [],
   "source": [
    "%matplotlib qt5\n",
    "plt.plot(deltas, 'o-')\n",
    "plt.plot(delta_test, '.-')\n"
   ]
  },
  {
   "cell_type": "code",
   "execution_count": null,
   "metadata": {},
   "outputs": [],
   "source": [
    "#  create radia model\n",
    "phase, dgv = 0, 0\n",
    "imaids.utils.set_len_tol(5e-10, 5e-10)\n",
    "delta = generate_radia_model(phase=phase, dgv=dgv)\n",
    "cas_names = get_cassettes_names(delta)\n",
    "nr_blocks = delta.cassettes_ref['cid'].nr_blocks\n",
    "\n",
    "residue = list()\n",
    "for k in range(10):\n",
    "    print('iteraction: ', k)\n",
    "    field_diff = calc_field_difference(full_field_meas)\n",
    "    residue_ = np.std(field_diff)\n",
    "    residue.append(residue_)\n",
    "    print(residue_)\n",
    "    # idx = np.argwhere(np.abs(field_diff) < 1e-6)\n",
    "    # field_diff[idx] = 0\n",
    "\n",
    "    deltas = 0.7*np.dot(invmat, field_diff)\n",
    "    deltas = deltas.reshape((len(cas_names), nr_blocks, 5))\n",
    "    mag_dict = dict()\n",
    "    error_dict = dict()\n",
    "    cas_names = get_cassettes_names(delta)\n",
    "    for i, cas_name in enumerate(cas_names):\n",
    "        mag_list = list()\n",
    "        error_list = list()\n",
    "        for j, block in enumerate(delta.cassettes_ref[cas_name].blocks):\n",
    "            mag_list.append(np.array(block.magnetization) + deltas[i, j, 0:3])\n",
    "\n",
    "            previous_error = np.array(delta.position_err_dict[cas_name][j])\n",
    "            error_new = np.array([deltas[i, j, 3]*convx, deltas[i, j, 4]*convy, 0]) + previous_error\n",
    "\n",
    "            error_list.append(list(error_new))\n",
    "\n",
    "        mag_dict[cas_name] = mag_list\n",
    "        error_dict[cas_name] = error_list\n",
    "    delta.create_radia_object(magnetization_dict=mag_dict,\n",
    "                              position_err_dict=error_dict)\n",
    "    delta.set_cassete_positions(dp=phase, dgv=dgv)\n"
   ]
  },
  {
   "cell_type": "code",
   "execution_count": null,
   "metadata": {},
   "outputs": [],
   "source": [
    "for k in range(5):\n",
    "    print('iteraction: ', k)\n",
    "    field_diff = calc_field_difference(full_field_meas)\n",
    "    residue_ = np.std(field_diff)\n",
    "    residue.append(residue_)\n",
    "    print(residue_)\n",
    "    # idx = np.argwhere(np.abs(field_diff) < 1e-6)\n",
    "    # field_diff[idx] = 0\n",
    "\n",
    "    deltas = 0.8*np.dot(invmat, field_diff)\n",
    "    deltas = deltas.reshape((len(cas_names), nr_blocks, 5))\n",
    "    mag_dict = dict()\n",
    "    error_dict = dict()\n",
    "    cas_names = get_cassettes_names(delta)\n",
    "    for i, cas_name in enumerate(cas_names):\n",
    "        mag_list = list()\n",
    "        error_list = list()\n",
    "        for j, block in enumerate(delta.cassettes_ref[cas_name].blocks):\n",
    "            mag_list.append(np.array(block.magnetization) + deltas[i, j, 0:3])\n",
    "\n",
    "            previous_error = np.array(delta.position_err_dict[cas_name][j])\n",
    "            error_new = np.array([deltas[i, j, 3]*convx, deltas[i, j, 4]*convy, 0]) + previous_error\n",
    "\n",
    "            error_list.append(list(error_new))\n",
    "        mag_dict[cas_name] = mag_list\n",
    "        error_dict[cas_name] = error_list\n",
    "    delta.create_radia_object(magnetization_dict=mag_dict,\n",
    "                              position_err_dict=error_dict)\n",
    "    delta.set_cassete_positions(dp=phase, dgv=dgv)\n"
   ]
  },
  {
   "cell_type": "code",
   "execution_count": null,
   "metadata": {},
   "outputs": [],
   "source": [
    "mag_final = np.zeros((4, 93, 3))\n",
    "mag_goal = np.zeros((4, 93, 3))\n",
    "for i, cas in enumerate(cas_names):\n",
    "    for j, block in enumerate(delta.cassettes_ref[cas].blocks):\n",
    "       mag_final[i, j, :] = block.magnetization\n",
    "       mag_goal[i, j, :] = delta2.cassettes_ref[cas].blocks[j].magnetization\n"
   ]
  },
  {
   "cell_type": "code",
   "execution_count": null,
   "metadata": {},
   "outputs": [],
   "source": [
    "mag = 2\n",
    "cas = 0\n",
    "plt.title('x magnetization - CSE')\n",
    "plt.plot(mag_goal[cas,:, mag], 'o-', label='Goal magnetization')\n",
    "plt.plot(mag_final[cas,:, mag], '.-', label='Fitted magnetization')\n",
    "plt.xlabel('Block number')\n",
    "plt.ylabel('Remanent magnetization [T]')\n",
    "plt.legend()\n"
   ]
  },
  {
   "cell_type": "code",
   "execution_count": null,
   "metadata": {},
   "outputs": [],
   "source": [
    "delta.position_err_dict['cse'][10]\n"
   ]
  },
  {
   "cell_type": "code",
   "execution_count": null,
   "metadata": {},
   "outputs": [],
   "source": [
    "error_final = np.zeros((4, 93, 3))\n",
    "error_goal = np.zeros((4, 93, 3))\n",
    "for i, cas in enumerate(cas_names):\n",
    "    for j, block in enumerate(delta.cassettes_ref[cas].blocks):\n",
    "       error_final[i, j, :] = np.array(delta.position_err_dict[cas][j])\n",
    "       error_goal[i, j, :] = np.array(delta2.position_err_dict[cas][j])\n"
   ]
  },
  {
   "cell_type": "code",
   "execution_count": null,
   "metadata": {},
   "outputs": [],
   "source": [
    "dim = 0\n",
    "cas = 1\n",
    "# plt.title('x magnetization - CSE')\n",
    "plt.plot(error_goal[cas,:, dim], 'o-', label='Goal error')\n",
    "plt.plot(error_final[cas,:, dim], '.-', label='Fitted error')\n",
    "plt.xlabel('Block number')\n",
    "plt.ylabel('Block shift [mm]')\n",
    "plt.legend()\n"
   ]
  },
  {
   "cell_type": "code",
   "execution_count": null,
   "metadata": {},
   "outputs": [],
   "source": [
    "full_field_model = get_full_field_model(rx, rz, delta)\n",
    "full_field_model = np.swapaxes(full_field_model, 0, 1)\n"
   ]
  },
  {
   "cell_type": "code",
   "execution_count": null,
   "metadata": {},
   "outputs": [],
   "source": [
    "plt.plot(full_field_meas[:, 10, 1])\n",
    "plt.plot(full_field_model[:, 10, 1])\n"
   ]
  },
  {
   "cell_type": "code",
   "execution_count": 19,
   "metadata": {},
   "outputs": [
    {
     "name": "stdout",
     "output_type": "stream",
     "text": [
      "ID4818\n"
     ]
    }
   ],
   "source": [
    "phase = 0\n",
    "dgv = 0\n",
    "fmap = get_fieldmap(phase=phase, dgv=dgv)\n",
    "rx = fmap.rx\n",
    "ry = fmap.ry\n",
    "rz = fmap.rz\n",
    "full_field_meas = get_full_field(fmap)\n",
    "full_field_meas = np.swapaxes(full_field_meas, 0, 1)\n"
   ]
  },
  {
   "cell_type": "code",
   "execution_count": 16,
   "metadata": {},
   "outputs": [],
   "source": [
    "delta = generate_radia_model(phase=0, dgv=0)\n",
    "data = load_pickle('data')\n",
    "mag_dict = data['mag']\n",
    "error_dict = data['shift']\n",
    "\n",
    "delta.create_radia_object(magnetization_dict=mag_dict,\n",
    "                                  position_err_dict=error_dict)\n"
   ]
  },
  {
   "cell_type": "code",
   "execution_count": 20,
   "metadata": {},
   "outputs": [],
   "source": [
    "full_field_model = get_full_field_model(rx, rz, delta)\n",
    "full_field_model = np.swapaxes(full_field_model, 0, 1)\n"
   ]
  },
  {
   "cell_type": "code",
   "execution_count": 26,
   "metadata": {},
   "outputs": [
    {
     "data": {
      "text/plain": [
       "[<matplotlib.lines.Line2D at 0x7fd2ed85a190>]"
      ]
     },
     "execution_count": 26,
     "metadata": {},
     "output_type": "execute_result"
    }
   ],
   "source": [
    "%matplotlib qt5\n",
    "plt.plot(full_field_meas[:, 5, 1])\n",
    "plt.plot(full_field_model[:, 5, 1])\n"
   ]
  }
 ],
 "metadata": {
  "kernelspec": {
   "display_name": "sirius",
   "language": "python",
   "name": "python3"
  },
  "language_info": {
   "codemirror_mode": {
    "name": "ipython",
    "version": 3
   },
   "file_extension": ".py",
   "mimetype": "text/x-python",
   "name": "python",
   "nbconvert_exporter": "python",
   "pygments_lexer": "ipython3",
   "version": "3.9.2"
  },
  "orig_nbformat": 4
 },
 "nbformat": 4,
 "nbformat_minor": 2
}
