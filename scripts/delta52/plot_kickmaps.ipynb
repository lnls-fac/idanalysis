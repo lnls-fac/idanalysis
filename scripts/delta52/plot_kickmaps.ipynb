{
 "cells": [
  {
   "cell_type": "code",
   "execution_count": 1,
   "metadata": {},
   "outputs": [
    {
     "name": "stderr",
     "output_type": "stream",
     "text": [
      "Warning: Ignoring XDG_SESSION_TYPE=wayland on Gnome. Use QT_QPA_PLATFORM=wayland to run on Wayland anyway.\n"
     ]
    }
   ],
   "source": [
    "%matplotlib qt5\n",
    "import numpy as np\n",
    "from idanalysis import IDKickMap\n",
    "from idanalysis.analysis import Tools\n",
    "import utils\n",
    "from fieldmaptrack import Beam\n",
    "import matplotlib.pyplot as plt\n",
    "from matplotlib.ticker import FormatStrFormatter\n",
    "from matplotlib import cm\n",
    "from mpl_toolkits.mplot3d.axes3d import Axes3D"
   ]
  },
  {
   "cell_type": "code",
   "execution_count": 3,
   "metadata": {},
   "outputs": [],
   "source": [
    "phase, dgv = 0, 0\n",
    "\n",
    "brho, *_ = Beam.calc_brho(3)  # [T.m]\n",
    "phase_str = Tools.get_phase_str(phase)\n",
    "fname = './results/measurements/kickmaps/kickmap-ID_phase{}_dgv{}_mf_True-shifted_on_axis.txt'.format(phase_str, dgv)\n",
    "kmap = IDKickMap(kmap_fname=fname)"
   ]
  },
  {
   "cell_type": "code",
   "execution_count": 11,
   "metadata": {},
   "outputs": [],
   "source": [
    "phase, dgv = 0, 0\n",
    "\n",
    "# p = str(int(np.modf(np.abs(phase))[-1]))\n",
    "# gv = str(int(np.modf(np.abs(dgv))[-1]))\n",
    "phase_str = Tools.get_phase_str(phase)\n",
    "fname = './results/model/kickmaps/kickmap-ID_phase{}_dgv{}_mf_True-shifted_on_axis.txt'.format(phase_str, dgv)\n",
    "kmap = IDKickMap(kmap_fname=fname)"
   ]
  },
  {
   "cell_type": "code",
   "execution_count": 12,
   "metadata": {},
   "outputs": [
    {
     "data": {
      "text/plain": [
       "<matplotlib.colorbar.Colorbar at 0x7f48a46a8520>"
      ]
     },
     "execution_count": 12,
     "metadata": {},
     "output_type": "execute_result"
    }
   ],
   "source": [
    "kickx = (1e6/brho**2)*kmap.kickx\n",
    "kicky = (1e6/brho**2)*kmap.kicky\n",
    "posx = 1e3*kmap.posx\n",
    "posy = 1e3*kmap.posy\n",
    "\n",
    "X, Y = np.meshgrid(posx, posy)\n",
    "levels = np.linspace(-60, 60, 10)\n",
    "\n",
    "fig, ax = plt.subplots(subplot_kw={\"projection\": \"3d\"}, figsize=(6, 6))\n",
    "# ax.set_zlim((-120, 60))\n",
    "contour = ax.plot_surface(X, Y, kickx, cmap=cm.viridis)\n",
    "# ax.set_zlabel('kick x [urad]')\n",
    "\n",
    "# fig = plt.figure(figsize=(8, 5))\n",
    "# ax = plt.axes()\n",
    "ax.set_xlabel('pos x [mm]')\n",
    "ax.set_ylabel('pos y [mm]')\n",
    "ax.xaxis.set_major_formatter(FormatStrFormatter('%.1f'))\n",
    "ax.yaxis.set_major_formatter(FormatStrFormatter('%.1f'))\n",
    "# contour = ax.contourf(X, Y, kickx, levels=levels)\n",
    "\n",
    "fig.colorbar(contour, ax=ax, shrink=0.6,  aspect=10, label='Kick x [urad]',\n",
    "            boundaries=levels)\n",
    "# plt.savefig('fit_kickx_3_terms')"
   ]
  },
  {
   "cell_type": "code",
   "execution_count": 10,
   "metadata": {},
   "outputs": [
    {
     "data": {
      "text/plain": [
       "<matplotlib.colorbar.Colorbar at 0x7f48b000a6a0>"
      ]
     },
     "execution_count": 10,
     "metadata": {},
     "output_type": "execute_result"
    }
   ],
   "source": [
    "fig, ax = plt.subplots(subplot_kw={\"projection\": \"3d\"})\n",
    "# ax.set_zlabel('kick y [urad]')\n",
    "\n",
    "# fig = plt.figure(figsize=(8, 5))\n",
    "# ax = plt.axes()\n",
    "ax.set_xlabel('pos x [mm]')\n",
    "ax.set_ylabel('pos y [mm]')\n",
    "# ax.set_zlim((-100, 100))\n",
    "ax.xaxis.set_major_formatter(FormatStrFormatter('%.1f'))\n",
    "ax.yaxis.set_major_formatter(FormatStrFormatter('%.1f'))\n",
    "levels = np.linspace(-60, 60, 10)\n",
    "# contour = ax.contourf(X, Y, kicky, levels=levels)\n",
    "contour = ax.plot_surface(X, Y, kicky, cmap=cm.viridis)\n",
    "# contour = ax.plot_surface(X, Y, kicky, cmap=cm.viridis, vmin=-100, vmax=100)\n",
    "\n",
    "fig.colorbar(contour, ax=ax, shrink=1,  aspect=20, label='Kick y [urad]',\n",
    "            boundaries=levels)\n",
    "# plt.savefig('fit_kicky_3_terms')"
   ]
  }
 ],
 "metadata": {
  "kernelspec": {
   "display_name": "sirius",
   "language": "python",
   "name": "python3"
  },
  "language_info": {
   "codemirror_mode": {
    "name": "ipython",
    "version": 3
   },
   "file_extension": ".py",
   "mimetype": "text/x-python",
   "name": "python",
   "nbconvert_exporter": "python",
   "pygments_lexer": "ipython3",
   "version": "3.9.2"
  },
  "orig_nbformat": 4
 },
 "nbformat": 4,
 "nbformat_minor": 2
}
