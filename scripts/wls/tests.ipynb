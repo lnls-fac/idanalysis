{
 "cells": [
  {
   "cell_type": "code",
   "execution_count": 1,
   "metadata": {},
   "outputs": [
    {
     "name": "stderr",
     "output_type": "stream",
     "text": [
      "Warning: Ignoring XDG_SESSION_TYPE=wayland on Gnome. Use QT_QPA_PLATFORM=wayland to run on Wayland anyway.\n"
     ]
    }
   ],
   "source": [
    "%matplotlib qt5\n",
    "import numpy as np\n",
    "import matplotlib.pyplot as plt\n",
    "from idanalysis import IDKickMap\n",
    "from mathphys.functions import save_pickle, load_pickle\n",
    "import utils\n",
    "import pymodels, pyaccel"
   ]
  },
  {
   "cell_type": "code",
   "execution_count": 32,
   "metadata": {},
   "outputs": [],
   "source": [
    "def get_gap_str(gap):\n",
    "    gap_str = '{:04.1f}'.format(gap).replace('.', 'p')\n",
    "    return gap_str\n",
    "\n",
    "def get_phase_str(phase):\n",
    "    phase_str = '{:+07.3f}'.format(phase).replace('.', 'p')\n",
    "    phase_str = phase_str.replace('+', 'pos').replace('-', 'neg')\n",
    "    return phase_str"
   ]
  },
  {
   "cell_type": "code",
   "execution_count": 33,
   "metadata": {},
   "outputs": [],
   "source": [
    "def get_meas_data_path(phase, gap):\n",
    "    fpath = utils.FOLDER_DATA\n",
    "    fpath = fpath.replace('model', 'measurements')\n",
    "    phase_str = get_phase_str(phase)\n",
    "    fpath = fpath.replace(\n",
    "        'data/', 'data/phases/phase_{}/'.format(phase_str))\n",
    "    gap_str = get_gap_str(gap)\n",
    "    fpath += 'gap_{}/'.format(gap_str)\n",
    "    return fpath"
   ]
  },
  {
   "cell_type": "code",
   "execution_count": 34,
   "metadata": {},
   "outputs": [],
   "source": [
    "def get_field_data_fname(phase, gap):\n",
    "    fpath = get_meas_data_path(phase=phase, gap=gap)\n",
    "    sulfix = 'field_data'\n",
    "    phase_str = get_phase_str(phase)\n",
    "    sulfix += '_phase{}'.format(phase_str)\n",
    "    gap_str = get_gap_str(gap)\n",
    "    sulfix += '_gap{}'.format(gap_str)\n",
    "    return fpath + sulfix"
   ]
  },
  {
   "cell_type": "code",
   "execution_count": 35,
   "metadata": {},
   "outputs": [],
   "source": [
    "def get_data_plot(phase=0, gap=0):\n",
    "    data_plot = dict()\n",
    "    if utils.var_param == 'gap':\n",
    "        for gap_ in utils.gaps:\n",
    "            fname = get_field_data_fname(phase, gap_)\n",
    "            try:\n",
    "                fdata = load_pickle(fname)\n",
    "                data_plot[gap_] = fdata\n",
    "            except FileNotFoundError:\n",
    "                print('File does not exist.')\n",
    "    if utils.var_param == 'phase':\n",
    "        for phase_ in utils.phases:\n",
    "            fname = get_field_data_fname(phase_, gap)\n",
    "            try:\n",
    "                fdata = load_pickle(fname)\n",
    "                data_plot[phase_] = fdata\n",
    "            except FileNotFoundError:\n",
    "                print('File does not exist.')\n",
    "    return data_plot"
   ]
  },
  {
   "cell_type": "code",
   "execution_count": 38,
   "metadata": {},
   "outputs": [],
   "source": [
    "def plot_field_on_axis(data, sulfix=None):\n",
    "    colors = ['C0', 'b', 'g', 'y', 'C1', 'r', 'k']\n",
    "    field_component = utils.field_component\n",
    "    fig, axs = plt.subplots(3, 1, sharex=True, figsize=(12, 8))\n",
    "    output_dir = utils.FOLDER_DATA + 'general'\n",
    "    filename = 'field-profile'\n",
    "    var_parameters = list(data.keys())\n",
    "    for i, parameter in enumerate(var_parameters):\n",
    "        label = 'I = {} A'.format(parameter)\n",
    "        bx = data[parameter]['onaxis_bx']\n",
    "        by = data[parameter]['onaxis_by']\n",
    "        bz = data[parameter]['onaxis_bz']\n",
    "        rz = data[parameter]['onaxis_rz']\n",
    "        axs[0].plot(rz, bx, label=label, color=colors[i])\n",
    "        axs[0].set_ylabel('Bx [T]')\n",
    "        axs[1].plot(rz, by, label=label, color=colors[i])\n",
    "        axs[1].set_ylabel('By [T]')\n",
    "        axs[2].plot(rz, bz, label=label, color=colors[i])\n",
    "        axs[2].set_ylabel('Bz [T]')\n",
    "        for j in np.arange(3):\n",
    "            axs[j].set_xlabel('z [mm]')\n",
    "            axs[j].legend(loc='lower left')\n",
    "            axs[j].grid()\n",
    "    # plt.savefig(filename, dpi=300)\n",
    "    plt.show()"
   ]
  },
  {
   "cell_type": "code",
   "execution_count": 39,
   "metadata": {},
   "outputs": [],
   "source": [
    "def plot_rk_traj(data, sulfix=None):\n",
    "    colors = ['C0', 'b', 'g', 'y', 'C1', 'r', 'k']\n",
    "    var_parameters = list(data.keys())\n",
    "    output_dir = utils.FOLDER_DATA + 'general'\n",
    "    for i, parameter in enumerate(var_parameters):\n",
    "        s = data[parameter]['ontraj_s']\n",
    "        rx = data[parameter]['ontraj_rx']\n",
    "        ry = data[parameter]['ontraj_ry']\n",
    "        px = 1e6*data[parameter]['ontraj_px']\n",
    "        py = 1e6*data[parameter]['ontraj_py']\n",
    "        label = 'I = {} A'.format(parameter)\n",
    "\n",
    "        plt.figure(1)\n",
    "        plt.plot(s, 1e3*rx, color=colors[i], label=label)\n",
    "        plt.xlabel('path length [mm]')\n",
    "        plt.ylabel('x [um]')\n",
    "\n",
    "        plt.figure(2)\n",
    "        plt.plot(s, 1e3*ry, color=colors[i], label=label)\n",
    "        plt.xlabel('path length [mm]')\n",
    "        plt.ylabel('y [um]')\n",
    "        plt.legend()\n",
    "\n",
    "        plt.figure(3)\n",
    "        plt.plot(s, px, color=colors[i], label=label)\n",
    "        plt.xlabel('path length [mm]')\n",
    "        plt.ylabel('px [urad]')\n",
    "\n",
    "        plt.figure(4)\n",
    "        plt.plot(s, py, color=colors[i], label=label)\n",
    "        plt.xlabel('path length [mm]')\n",
    "        plt.ylabel('py [urad]')\n",
    "    sulfix_ = ['traj-rx', 'traj-ry', 'traj-px', 'traj-py']\n",
    "    for i in [1, 2, 3, 4]:\n",
    "        plt.figure(i)\n",
    "        plt.legend()\n",
    "        plt.grid()\n",
    "        plt.tight_layout()\n",
    "        filename = sulfix_[i-1]\n",
    "        # plt.savefig(filename, dpi=300)\n",
    "    plt.show()"
   ]
  },
  {
   "cell_type": "code",
   "execution_count": 90,
   "metadata": {},
   "outputs": [],
   "source": [
    "def read_data_roll_off(data, parameter):\n",
    "    field_component = 'by'\n",
    "    if 'rolloff_{}'.format(field_component) in data[parameter]:\n",
    "        b = data[parameter]['rolloff_{}'.format(field_component)]\n",
    "        if 'rolloff_rt' in data[parameter]:\n",
    "            rt = data[parameter]['rolloff_rt']\n",
    "        elif 'rolloff_rx' in data[parameter]:\n",
    "            rt = data[parameter]['rolloff_rx']\n",
    "        elif 'rolloff_ry' in data[parameter]:\n",
    "            rt = data[parameter]['rolloff_ry']\n",
    "        rtp_idx = np.argmin(np.abs(rt - 5))\n",
    "        rt0_idx = np.argmin(np.abs(rt))\n",
    "        roff = np.abs(b[rtp_idx]/b[rt0_idx]-1)\n",
    "        b0 = b[rt0_idx]\n",
    "        roll_off = 100*(b/b0 - 1)\n",
    "        return rt, b, roll_off, roff"
   ]
  },
  {
   "cell_type": "code",
   "execution_count": 40,
   "metadata": {},
   "outputs": [],
   "source": [
    "def plot_field_roll_off(data, sulfix=None):\n",
    "    field_component = utils.field_component\n",
    "    plt.figure(1)\n",
    "    output_dir = utils.FOLDER_DATA + 'general'\n",
    "    output_dir = output_dir.replace('model', 'measurements')\n",
    "    filename = output_dir + '/field-rolloff'\n",
    "    if sulfix is not None:\n",
    "        filename += sulfix\n",
    "    colors = ['C0', 'b', 'g', 'y', 'C1', 'r', 'k']\n",
    "    var_parameters = list(data.keys())\n",
    "    for i, parameter in enumerate(var_parameters):\n",
    "        roff_data = read_data_roll_off(data, parameter)\n",
    "        if roff_data is None:\n",
    "            continue\n",
    "        else:\n",
    "            rt, b, roll_off, roff = roff_data\n",
    "        label = utils.var_param +\\\n",
    "            \" {} mm, roll-off = {:.2f} %\".format(parameter, 100*roff)\n",
    "        plt.plot(rt, roll_off, '.-', label=label, color=colors[i])\n",
    "    if field_component == 'by':\n",
    "        plt.xlabel('x [mm]')\n",
    "    else:\n",
    "        plt.xlabel('y [mm]')\n",
    "    plt.ylabel('Field roll off [%]')\n",
    "    plt.xlim(-utils.ROLL_OFF_RT, utils.ROLL_OFF_RT)\n",
    "    plt.ylim(-101*roff, 20*roff)\n",
    "    if field_component == 'by':\n",
    "        plt.title('Field roll-off at x = {} mm'.format(utils.ROLL_OFF_RT))\n",
    "    elif field_component == 'bx':\n",
    "        plt.title('Field roll-off at y = {} mm'.format(utils.ROLL_OFF_RT))\n",
    "    plt.legend()\n",
    "    plt.grid()\n",
    "    # plt.savefig(filename, dpi=300)\n",
    "    plt.show()"
   ]
  },
  {
   "cell_type": "code",
   "execution_count": 41,
   "metadata": {},
   "outputs": [],
   "source": [
    "def run_plot_data(phase=0, gap=0, sulfix=None):\n",
    "    data_plot = get_data_plot(phase=phase, gap=gap)\n",
    "    plot_field_on_axis(data=data_plot,\n",
    "                       sulfix=sulfix)\n",
    "    # plot_rk_traj(data=data_plot, sulfix=sulfix)\n",
    "        "
   ]
  },
  {
   "cell_type": "code",
   "execution_count": 42,
   "metadata": {},
   "outputs": [],
   "source": [
    "phase = utils.phases[0]\n",
    "run_plot_data(phase=phase,\n",
    "              gap=utils.gaps[0],\n",
    "              sulfix=None)"
   ]
  },
  {
   "cell_type": "code",
   "execution_count": 67,
   "metadata": {},
   "outputs": [],
   "source": [
    "def plot_rk_curr(data, sulfix=None):\n",
    "    colors = ['C0', 'b', 'g', 'y', 'C1', 'r', 'k']\n",
    "    var_parameters = list(data.keys())\n",
    "    output_dir = utils.FOLDER_DATA + 'general'\n",
    "    rx, ry = list(), list()\n",
    "    px, py = list(), list()\n",
    "    curr = list()\n",
    "    for i, parameter in enumerate(var_parameters):\n",
    "        rx_ = 1e3*data[parameter]['ontraj_rx'][-1]\n",
    "        ry_ = 1e3*data[parameter]['ontraj_ry'][-1]\n",
    "        px_ = 1e6*data[parameter]['ontraj_px'][-1]\n",
    "        py_ = 1e6*data[parameter]['ontraj_py'][-1]\n",
    "        rx0_ = parameter\n",
    "        rx.append(rx_)\n",
    "        ry.append(ry_)\n",
    "        px.append(px_)\n",
    "        py.append(py_)\n",
    "        curr.append(curr_)\n",
    "\n",
    "    plt.figure(1)\n",
    "    plt.plot(curr, rx, '.-', color=colors[1])\n",
    "    plt.xlabel('Current [A]')\n",
    "    plt.ylabel('final rx [um]')\n",
    "\n",
    "    plt.figure(2)\n",
    "    plt.plot(curr, ry, '.-', color=colors[-2])\n",
    "    plt.xlabel('Current [A]')\n",
    "    plt.ylabel('yf [um]')\n",
    "\n",
    "    plt.figure(3)\n",
    "    plt.plot(curr, px, '.-', color=colors[1])\n",
    "    plt.xlabel('Current [A]')\n",
    "    plt.ylabel('pxf [urad]')\n",
    "\n",
    "    plt.figure(4)\n",
    "    plt.plot(curr, py, '.-', color=colors[-2])\n",
    "    plt.xlabel('Current [A]')\n",
    "    plt.ylabel('pyf [urad]')\n",
    "    sulfix_ = ['traj-rx-final', 'traj-ry-final', 'traj-px-final', 'traj-py-final']\n",
    "    for i in [1, 2, 3, 4]:\n",
    "        plt.figure(i)\n",
    "        # plt.legend()\n",
    "        plt.grid()\n",
    "        plt.tight_layout()\n",
    "        filename = sulfix_[i-1]\n",
    "        plt.savefig(filename, dpi=300)\n",
    "    plt.show()"
   ]
  },
  {
   "cell_type": "code",
   "execution_count": 68,
   "metadata": {},
   "outputs": [
    {
     "data": {
      "image/png": "[encoded data removed]",
      "text/plain": [
       "<Figure size 640x480 with 1 Axes>"
      ]
     },
     "metadata": {},
     "output_type": "display_data"
    },
    {
     "data": {
      "image/png": "[encoded data removed]",
      "text/plain": [
       "<Figure size 640x480 with 1 Axes>"
      ]
     },
     "metadata": {},
     "output_type": "display_data"
    },
    {
     "data": {
      "image/png": "[encoded data removed]",
      "text/plain": [
       "<Figure size 640x480 with 1 Axes>"
      ]
     },
     "metadata": {},
     "output_type": "display_data"
    },
    {
     "data": {
      "image/png": "[encoded data removed]",
      "text/plain": [
       "<Figure size 640x480 with 1 Axes>"
      ]
     },
     "metadata": {},
     "output_type": "display_data"
    }
   ],
   "source": [
    "data_plot = get_data_plot(phase=0, gap=0)\n",
    "plot_rk_curr(data_plot)"
   ]
  },
  {
   "cell_type": "code",
   "execution_count": 39,
   "metadata": {},
   "outputs": [],
   "source": [
    "model = pymodels.si.create_accelerator()\n",
    "famdata = pymodels.si.get_family_data(model)\n",
    "idcs_q = famdata['QN']['index']\n",
    "idcs_s = famdata['SN']['index']"
   ]
  },
  {
   "cell_type": "code",
   "execution_count": 56,
   "metadata": {},
   "outputs": [],
   "source": [
    "kl = pyaccel.lattice.get_attribute(model, 'KL', idcs_q)\n",
    "sl = pyaccel.lattice.get_attribute(model, 'SL', idcs_s)\n",
    "k = pyaccel.lattice.get_attribute(model, 'K', idcs_q)\n",
    "s = pyaccel.lattice.get_attribute(model, 'S', idcs_s)"
   ]
  },
  {
   "cell_type": "code",
   "execution_count": 72,
   "metadata": {},
   "outputs": [
    {
     "data": {
      "text/plain": [
       "0.22673565770543608"
      ]
     },
     "execution_count": 72,
     "metadata": {},
     "output_type": "execute_result"
    }
   ],
   "source": [
    "np.abs(kl).min()"
   ]
  },
  {
   "cell_type": "code",
   "execution_count": 78,
   "metadata": {},
   "outputs": [
    {
     "data": {
      "text/plain": [
       "78.8544"
      ]
     },
     "execution_count": 78,
     "metadata": {},
     "output_type": "execute_result"
    }
   ],
   "source": [
    "np.abs(sl).min()*10"
   ]
  },
  {
   "cell_type": "code",
   "execution_count": 77,
   "metadata": {},
   "outputs": [
    {
     "data": {
      "text/plain": [
       "223.46729148073052"
      ]
     },
     "execution_count": 77,
     "metadata": {},
     "output_type": "execute_result"
    }
   ],
   "source": [
    "sl.std()*10"
   ]
  },
  {
   "cell_type": "code",
   "execution_count": 81,
   "metadata": {},
   "outputs": [
    {
     "data": {
      "text/plain": [
       "525.696"
      ]
     },
     "execution_count": 81,
     "metadata": {},
     "output_type": "execute_result"
    }
   ],
   "source": [
    "np.abs(s).min()*10"
   ]
  },
  {
   "cell_type": "code",
   "execution_count": 2,
   "metadata": {},
   "outputs": [],
   "source": [
    "from idanalysis.analysis import Tools"
   ]
  },
  {
   "cell_type": "code",
   "execution_count": 3,
   "metadata": {},
   "outputs": [
    {
     "name": "stdout",
     "output_type": "stream",
     "text": [
      "ID007\n"
     ]
    }
   ],
   "source": [
    "fmap, fname = Tools._get_fmap(phase=0, gap=240, config_idx=None)"
   ]
  },
  {
   "cell_type": "code",
   "execution_count": 56,
   "metadata": {},
   "outputs": [
    {
     "name": "stdout",
     "output_type": "stream",
     "text": [
      "rz peak: 0.0 mm\n",
      "b peak: -6.89481495750123 T\n",
      "1000\n"
     ]
    }
   ],
   "source": [
    "plt.figure(1)\n",
    "period = 50\n",
    "by = fmap.by[fmap.ry_zero][fmap.rx_zero][:]\n",
    "rx = fmap.rx\n",
    "idxmax = np.argmin(\n",
    "            by[int(len(by)/2-period):int(len(by)/2+period)])\n",
    "idxmax += int(len(by)/2-period)\n",
    "\n",
    "rzmax = fmap.rz[idxmax]\n",
    "print('rz peak: {} mm'.format(rzmax))\n",
    "print('b peak: {} T'.format(by[idxmax]))\n",
    "print(idxmax)\n",
    "\n",
    "idxmax = 990\n",
    "plt.plot(rx, roff, color='C0')\n",
    "    # plt.plot(rx, byx, label='roll off @ {} mm= {:.2} %'.format(\n",
    "                # utils.ROLL_OFF_RT, roff))\n",
    "# plt.legend()\n",
    "plt.xlabel('rx [mm]')\n",
    "plt.ylabel('B [T]')\n",
    "plt.grid()\n",
    "plt.show()"
   ]
  },
  {
   "cell_type": "code",
   "execution_count": 4,
   "metadata": {},
   "outputs": [
    {
     "name": "stdout",
     "output_type": "stream",
     "text": [
      "ID007\n"
     ]
    }
   ],
   "source": [
    "fmaps_names = dict()\n",
    "curr = 240\n",
    "fmap, fname = Tools._get_fmap(phase=0, gap=curr, config_idx=None)\n",
    "fmaps_names[curr] = fname"
   ]
  },
  {
   "cell_type": "code",
   "execution_count": 5,
   "metadata": {},
   "outputs": [
    {
     "name": "stdout",
     "output_type": "stream",
     "text": [
      "Rz extrapolation rz = 1000.243862 > rz_max = 1000.000000 [mm]\n",
      "Rz extrapolation rz = 1000.243862 > rz_max = 1000.000000 [mm]\n",
      "Rz extrapolation rz = 1000.493862 > rz_max = 1000.000000 [mm]\n",
      "Rz extrapolation rz = 1000.243862 > rz_max = 1000.000000 [mm]\n",
      "Rz extrapolation rz = 1000.243862 > rz_max = 1000.000000 [mm]\n",
      "Rz extrapolation rz = 1000.493862 > rz_max = 1000.000000 [mm]\n",
      "Rz extrapolation rz = 1000.243862 > rz_max = 1000.000000 [mm]\n",
      "Rz extrapolation rz = 1000.243862 > rz_max = 1000.000000 [mm]\n",
      "Rz extrapolation rz = 1000.493862 > rz_max = 1000.000000 [mm]\n",
      "Rz extrapolation rz = 1000.243862 > rz_max = 1000.000000 [mm]\n",
      "Rz extrapolation rz = 1000.243862 > rz_max = 1000.000000 [mm]\n",
      "Rz extrapolation rz = 1000.493862 > rz_max = 1000.000000 [mm]\n",
      "Rz extrapolation rz = 1000.243862 > rz_max = 1000.000000 [mm]\n",
      "Rz extrapolation rz = 1000.243862 > rz_max = 1000.000000 [mm]\n",
      "Rz extrapolation rz = 1000.493862 > rz_max = 1000.000000 [mm]\n"
     ]
    }
   ],
   "source": [
    "bx, by, bz = dict(), dict(), dict()\n",
    "rz, rx, ry = dict(), dict(), dict()\n",
    "px, py, pz = dict(), dict(), dict()\n",
    "s = dict()\n",
    "data = dict()\n",
    "x0 = np.linspace(-1e-3, 1e-3, 5)\n",
    "for rx0 in x0:\n",
    "    # create IDKickMap and calc trajectory\n",
    "    idkickmap = IDKickMap()\n",
    "    fmap_fname = fmaps_names[curr]\n",
    "    idkickmap.fmap_fname = fmap_fname\n",
    "    idkickmap.beam_energy = utils.BEAM_ENERGY\n",
    "    idkickmap.rk_s_step = utils.DEF_RK_S_STEP\n",
    "    idkickmap.kmap_idlen = 1.2\n",
    "    idkickmap.fmap_calc_trajectory(\n",
    "            traj_init_rx=rx0, traj_init_ry=0,\n",
    "            traj_init_px=0, traj_init_py=0)\n",
    "    traj = idkickmap.traj\n",
    "    bx[rx0], by[rx0], bz[rx0] =\\\n",
    "        traj.bx, traj.by, traj.bz\n",
    "    rx[rx0], ry[rx0], rz[rx0] =\\\n",
    "        traj.rx, traj.ry, traj.rz\n",
    "    px[rx0], py[rx0], pz[rx0] =\\\n",
    "        traj.px, traj.py, traj.pz\n",
    "    s[rx0] = traj.s\n",
    "\n",
    "data['ontraj_bx'] = bx\n",
    "data['ontraj_by'] = by\n",
    "data['ontraj_bz'] = bz\n",
    "\n",
    "data['ontraj_rx'] = rx\n",
    "data['ontraj_ry'] = ry\n",
    "data['ontraj_rz'] = rz\n",
    "\n",
    "data['ontraj_px'] = px\n",
    "data['ontraj_py'] = py\n",
    "data['ontraj_pz'] = pz\n",
    "\n",
    "data['ontraj_s'] = s"
   ]
  },
  {
   "cell_type": "code",
   "execution_count": 7,
   "metadata": {},
   "outputs": [],
   "source": [
    "save_pickle(data, 'traj_240_no_roff', overwrite=True)"
   ]
  },
  {
   "cell_type": "code",
   "execution_count": 8,
   "metadata": {},
   "outputs": [],
   "source": [
    "by = data['ontraj_by']\n",
    "s = data['ontraj_s']\n",
    "px = data['ontraj_px']\n",
    "rx = data['ontraj_rx']"
   ]
  },
  {
   "cell_type": "code",
   "execution_count": 10,
   "metadata": {},
   "outputs": [],
   "source": [
    "for rx0 in x0:\n",
    "    by_ = by[rx0]\n",
    "    s_ = s[rx0]\n",
    "    px_ = px[rx0]\n",
    "    rx_ = rx[rx0]\n",
    "    rxf = rx_[-1]\n",
    "plt.plot(s_, 1e6*px_)"
   ]
  }
 ],
 "metadata": {
  "kernelspec": {
   "display_name": "sirius",
   "language": "python",
   "name": "python3"
  },
  "language_info": {
   "codemirror_mode": {
    "name": "ipython",
    "version": 3
   },
   "file_extension": ".py",
   "mimetype": "text/x-python",
   "name": "python",
   "nbconvert_exporter": "python",
   "pygments_lexer": "ipython3",
   "version": "3.9.2"
  },
  "orig_nbformat": 4
 },
 "nbformat": 4,
 "nbformat_minor": 2
}
